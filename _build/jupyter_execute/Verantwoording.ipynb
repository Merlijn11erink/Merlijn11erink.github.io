{
 "cells": [
  {
   "cell_type": "markdown",
   "metadata": {},
   "source": [
    "# Verantwoording"
   ]
  },
  {
   "cell_type": "markdown",
   "metadata": {},
   "source": [
    "figuur 1: https://imgur.com/gallery/recrystallization-of-acetanilide-by-nile-red-9YVpz"
   ]
  },
  {
   "cell_type": "markdown",
   "metadata": {},
   "source": [
    "figuur 2: zelfgemaakt op basis van figuur 14.11 uit Chemistry a molecular approach van Nivaldo Tro"
   ]
  },
  {
   "cell_type": "markdown",
   "metadata": {},
   "source": [
    "figuur 3: https://s3.amazonaws.com/images.icliniq.com/article/Blog/green+tea/gif1.gif"
   ]
  },
  {
   "cell_type": "markdown",
   "metadata": {},
   "source": [
    "figuur 4: https://i.makeagif.com/media/5-25-2015/yaXl0Q.gif"
   ]
  },
  {
   "cell_type": "markdown",
   "metadata": {},
   "source": [
    "figuur 5: https://aimhigh.space/water/distillation-and-chromatography/"
   ]
  },
  {
   "cell_type": "markdown",
   "metadata": {},
   "source": [
    "practicum zuivering van aspirine op basis van: https://www.uu.nl/sites/default/files/lesbrief_aspirine_synthese_2012.pdf"
   ]
  },
  {
   "cell_type": "markdown",
   "metadata": {},
   "source": [
    "paragraaf chromatografie is deels gebaseerd op het hoofdstuk Chromatografie en Gaschromatografie uit Chemische Analyse van A.G.A. van der Meer"
   ]
  }
 ],
 "metadata": {
  "kernelspec": {
   "display_name": "Python 3",
   "language": "python",
   "name": "python3"
  },
  "language_info": {
   "codemirror_mode": {
    "name": "ipython",
    "version": 3
   },
   "file_extension": ".py",
   "mimetype": "text/x-python",
   "name": "python",
   "nbconvert_exporter": "python",
   "pygments_lexer": "ipython3",
   "version": "3.12.4"
  }
 },
 "nbformat": 4,
 "nbformat_minor": 2
}