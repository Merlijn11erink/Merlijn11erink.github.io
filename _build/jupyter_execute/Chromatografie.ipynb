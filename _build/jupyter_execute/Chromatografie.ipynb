{
 "cells": [
  {
   "cell_type": "markdown",
   "metadata": {},
   "source": [
    "# Chromatografie"
   ]
  },
  {
   "cell_type": "markdown",
   "metadata": {},
   "source": [
    "```{figure} images/figuur-4.gif\n",
    "---\n",
    "width: 657px\n",
    "name: papierchromatografie\n",
    "---\n",
    "papierchromatografie\n",
    "```"
   ]
  },
  {
   "cell_type": "markdown",
   "metadata": {},
   "source": [
    "## Leerdoelen\n",
    "- Je kan benoemen op welk principe chromatografie werkt.\n",
    "- Je kan uitleggen wanneer chromatografie geschikt is als scheidingsmethode.\n",
    "- Je kan uitleggen hoe de verschillende vormen van chromatografie verlopen.\n",
    "- Je kan benoemen welke factoren van invloed zijn op chromatografie."
   ]
  },
  {
   "cell_type": "markdown",
   "metadata": {},
   "source": [
    "`````{admonition} Chromatografie buiten het lab\n",
    ":class: attention\n",
    "## Chromatografie buiten het lab\n",
    "```{figure} images/figuur-17.jpeg\n",
    "---\n",
    "width: 657px\n",
    "name: immunochromatografie\n",
    "---\n",
    "zelftests voor zwangerschap en COVID-19\n",
    "```\n",
    "Voor zelftests wordt vaak gebruik gemaakt van immunochromatografie. Zo'n zelftest heeft altijd een plek waar een vloeibaar monster wordt ingebracht, dat is tegelijkertijd de loopvloeistof. Op de plek waar je het monster inbrengt, zitten ook antistoffen voor de te testen stof, zoals het zwangerschapshormoon of het virus. Aan de antistoffen is een kleurstof verbonden. Wanneer de antistoffen gebonden zijn aan de stof waarop je test, kunnen ze niet verder komen dan de test strip, op de test strip zit een laag materiaal die alleen gebonden antistoffen tegenhoudt. Vrije antistoffen gaan door tot de controle strip, die is voorzien van een laag die alleen vrije antistoffen tegen houdt. De controle strip zit daarom altijd na de test strip ten opzichte van het monster. \n",
    "`````"
   ]
  },
  {
   "cell_type": "markdown",
   "metadata": {},
   "source": [
    "## Voorkennis"
   ]
  },
  {
   "cell_type": "markdown",
   "metadata": {},
   "source": [
    "Scheidingsmethoden berusten altijd op een verschil in stofeigenschap om de stoffen te scheiden. **{term}`polair`e** stoffen hechten beter aan andere polaire stoffen dan aan apolaire stoffen. Dit geldt ook voor **{term}`apolair`e** stoffen, zij hechten beter aan andere apolaire stoffen dan aan polaire stoffen."
   ]
  },
  {
   "cell_type": "markdown",
   "metadata": {},
   "source": [
    "## Soorten Chromatografie\n",
    "1. Papierchromatografie\n",
    "2. Dunne Laag Chromatografie\n",
    "3. Kolomchromatografie\n",
    "4. Gaschromatografie"
   ]
  },
  {
   "cell_type": "markdown",
   "metadata": {},
   "source": [
    "## Principe van Chromatografie\n",
    "Chromatografie is een scheidingsmethode die berust op het verschil in aanhechtingsvermogen van een stof aan de mobiele fase en aan de stationaire fase ten opzichte van een andere stof.\n",
    "\n",
    "Je zou dit kunnen vergelijken met een winkelstraat met een loopband, een horizontale roltrap. Stel je zet een groep stereotypische mannen en vrouwen op de loopband, en de winkels in deze straat verkopen vooral make-up, kleding en knipbeurten, dan zullen de vrouwen meer aangetrokken zijn om de winkels in te gaan dan de mannen. Als de winkels vooral elektronica en gereedschap verkopen dan zullen de mannen meer aangetrokken zijn om de winkels in te gaan. Hierdoor ontstaat er een scheiding over tijd.\n",
    "\n",
    "In bovenstaand voorbeeld is de loopband de mobiele fase en de winkels de stationaire fase. Hoe lang de mannen en vrouwen erover doen om naar het eind van de loopband te komen noemen we de **{term}`retentietijd`**."
   ]
  },
  {
   "cell_type": "markdown",
   "metadata": {},
   "source": [
    "## Het proces van Chromatografie\n",
    "| soort chromatografie | stationaire fase | mobiele fase | \n",
    "|---|---|---|\n",
    "| Papierchromatografie | papier | vloeistof |\n",
    "| Dunne Laag Chromatografie | een dunne laag van bv cellulose of silicagel | vloeistof |\n",
    "| Kolomchromatografie | suspensie van een vaste stof in de loopvloeistof | vloeistof|\n",
    "| Gaschromatografie | vaste stof of vloeistof vast op een drager | gas |\n",
    "\n",
    "### Dunne laag en papierchromatografie\n",
    "bij dunne laag en papiechromatografie is er geen **{term}`retentietijd`**, de stoffen stoppen op een bepaald punt tussen hun startpositie en het vloeistoffront. Daarom gebruiken bij deze twee typen chromatografie de **{term}`retardatiefactor`**.\n",
    "\n",
    "$\n",
    "R_f=\\frac{loopafstand\\,\\,stof}{loopafstand\\,\\,vloeistoffront}\n",
    "$\n",
    "\n",
    "Iedere stof heeft een unieke R<sub>f</sub> waarde bij een bepaalde loopvloeistof. Als je deze waarde bij een practicum bepaalt hebt, kun je bepalen welke stof er in het mengsel zat.\n",
    "### Kolomchromatografie\n",
    "Voor kolomchromatografie wordt een kolom gepakt met de gewenste stationaire fase. Er zijn verschillende manieren voor het pakken van de kolom, maar het gewenste resultaat moet een kolom zijn die alleen gevuld is met de loopvloeistof en de gekozen stationaire fase. Er moeten zo min mogelijk luchtbellen in de kolom zitten en het liefst ook een gelijke verdeling van de stationaire fase. \n",
    "\n",
    "Bij kolomchromatografie noemen we de loopvloeistof ook wel de **{term}`eluens`**. Elutie is namelijk een specifieke techniek die hierbij gebruikt kan worden. Elutie is het doorlaten lopen van een monsteroplossing door de kolom terwijl er steeds nieuw **{term}`eluens`** wordt bijgevoegd. De delen van de monsteroplossing raken van elkaar gescheiden door het verschil in aanhechting aan de mobiele en stationaire fase. Stoffen die het meest aan de mobiele fase hechten en het minst aan de stationaire fase zullen het eerst uit de kolom komen. In tegenstelling tot Dunne laag en papierchromatografie kunnen we bij kolomchromatografie deze verschillende delen opvangen en verder onderzoeken.\n",
    "### Gaschromatografie\n",
    "```{figure} images/figuur-8.png\n",
    "---\n",
    "width: 657px\n",
    "name: gaschromatograaf\n",
    "---\n",
    "gaschromatograaf: machine voor gaschromatografie\n",
    "```\n",
    "Deze scheidingsmethode is met name geschikt voor het scheiden van organische stoffen die makkelijk verdampen. In een gaschromatograaf wordt een monster ingebracht bij een verwarmingselement die het monster doet verdampen zodat die meegenomen kan worden door de gasstroom in de kolom. Met gaschromatografie kan je goed een kwantitatieve analyse uitvoeren, zo wordt het octaangehalte in benzine met deze scheidingsmethode bepaald."
   ]
  },
  {
   "cell_type": "markdown",
   "metadata": {},
   "source": [
    "## Rekenen met virtuele schotels\n",
    "```{figure} images/figuur-9.jpg\n",
    "---\n",
    "width: 657px\n",
    "name: kolom scheiding\n",
    "---\n",
    "schaal voor een goede scheiding bij chromatografie\n",
    "```\n",
    "De scheiding bij chromatografie lukt het beste als de verschillende bestandsdelen zo ver mogelijk uit elkaar zitten en zo dicht mogelijk in zichzelf gepakt zitten. Om deze verdeling tussen vertschillende opstellingen te kunnen vergelijken beschouwen we een denkbeeldig of virtuele schotel die een bepaalde hoogte moet hebben om een bestanddeel te bevatten. Dit is de H in de Van Deemter vergelijking:\n",
    "\n",
    "$\n",
    "H=Au^{1/3}+\\frac{B}{u}+Cu\n",
    "$\n",
    "\n",
    "- H: de hoogte van de virtuele schotel\n",
    "- u: de snelheid van de mobiele fase\n",
    "- A: het gevolg van diffusie doordat moleculen een willekeurig pad nemen.\n",
    "- B: het gevolg van diffusie door concentratieverschil\n",
    "- C: het gevolg van een sterk aanhechtingsvermogen aan de stationaire fase waardoor delen van een stof vertraagd zijn.\n"
   ]
  },
  {
   "cell_type": "markdown",
   "metadata": {},
   "source": [
    "## Praktijkvoorbeelden"
   ]
  },
  {
   "cell_type": "markdown",
   "metadata": {},
   "source": [
    "## Opgaven"
   ]
  },
  {
   "cell_type": "markdown",
   "metadata": {},
   "source": [
    "## Practica"
   ]
  },
  {
   "cell_type": "markdown",
   "metadata": {},
   "source": [
    "- Maak steeds één opgave.\n",
    "- Schrijf het antwoord in je schrift. \n",
    "- Kijk dan na door op antwoord te klikken.\n",
    "- Verbeter zo nodig.\n",
    "- Ga dan pas door met de volgende opgave."
   ]
  },
  {
   "cell_type": "markdown",
   "metadata": {},
   "source": [
    "``````{admonition} Kennisopgaven\n",
    ":class: note, dropdown\n",
    "`````{tab-set}\n",
    "````{tab-item} K1\n",
    "Welk verschil in stofeigenschappen wordt gebruikt voor chromatografie?\n",
    "```{dropdown} antwoord\n",
    "Aanhechtingsvermogen aan de mobiele fase (oplosbaarheid) en aanhechtingsvermogen aan de stationaire fase.\n",
    "```\n",
    "````\n",
    "\n",
    "````{tab-item} K2\n",
    "Wanneer is de scheiding bij chromatografie maximaal?\n",
    "```{dropdown} antwoord\n",
    "De scheiding bij chromatografie tussen twee stoffen is maximaal als stof 1 sterk hecht aan de mobiele fase en zwak aan de stationaire fase, terwijl stof 2 sterk hecht aan de stationaire fase en zwak aan de mobiele fase.\n",
    "```\n",
    "````\n",
    "`````\n",
    "``````"
   ]
  },
  {
   "cell_type": "markdown",
   "metadata": {},
   "source": [
    "``````{admonition} Toepassingsopgaven\n",
    ":class: note, dropdown\n",
    "`````{tab-set}\n",
    "````{tab-item} T1\n",
    "In een kolom met een apolaire pakking en een polaire loopvloeistof wordt een mengsel van een polaire stof en een apolaire stof gebracht. Leg uit welke stof eerst uit de kolom komt.\n",
    "\n",
    "```{dropdown} antwoord\n",
    "De polaire stof komt het eerst uit de kolom. Polaire stoffen hechten het meest aan andere polaire stoffen. De polaire stof uit het mengsel zal dus hechten aan de polaire mobiele fase, en slecht hechten aan de stationaire fase. De mobiele fase duwt deze stof vooruit terwijl de apolaire stof sterk hecht aan de stationaire fase, waardoor die er langer over doet om uit de kolom te komen.\n",
    "```\n",
    "````\n",
    "\n",
    "````{tab-item} T2\n",
    "```{figure} images/figuur-15.png\n",
    "---\n",
    "width: 657px\n",
    "name: Van Deemter grafiek\n",
    "---\n",
    "Van Deemter-curve\n",
    "```\n",
    "Voor elk chromatografisch systeem geldt er een minimum voor de schotelhoogte. Door een standaard mengsel op verschillende snelheden van de mobiele fase door het systeem te leiden en de verkregen waarden in een grafiek uit te zetten krijg je bovenstaand figuur. HETP is de hoogte van een theoretische schotel. Bepaal waar in de curve de optimale snelheid voor de mobiele fase ligt. \n",
    "\n",
    "```{dropdown} antwoord\n",
    "Het minimum van de curve is waar de schotelhoogte het kleinst is. Een kleine schotelhoogte betekent optimale scheiding. Het minimum van de curve ligt op 2,7±1 cm/s, dit is dus de optimale snelheid voor de mobiele fase voor dit systeem.\n",
    "\n",
    "\n",
    "```\n",
    "````\n",
    "`````\n",
    "``````"
   ]
  },
  {
   "cell_type": "markdown",
   "metadata": {},
   "source": [
    "``````{admonition} Inzichtsopgaven\n",
    ":class: note, dropdown\n",
    "`````{tab-set}\n",
    "````{tab-item} I1\n",
    "Leg uit welke termen in de Van Deemter vergelijking veranderen als de temperatuur wordt verhoogd.\n",
    "\n",
    "$\n",
    "H=Au^{1/3}+\\frac{B}{u}+Cu\n",
    "$\n",
    "\n",
    "```{dropdown} antwoord\n",
    "Als de temperatuur toeneemt, betekent dat de gemiddelde snelheid van deeltjes toeneemt. Diffusie ontstaat door de willekeurige beweging van deeltjes, als hun snelheid toeneemt, neemt ook de diffusie toe. Op de term A zal dit geen invloed hebben, want alle deeltjes worden vooruitgeduwd. De term B zal hierdoor wel toenemen. \n",
    "\n",
    "De term C zal kleiner worden, naarmate de deeltjes een hogere snelheid hebben zal er een kleiner verschil in aanhechtingsvermogen zijn aan de stationaire fase, delen van de stof raken minder vertraagd.\n",
    "\n",
    "```\n",
    "````\n",
    "\n",
    "````{tab-item} I2\n",
    "Leg uit welke termen in de Van Deemter vergelijking veranderen als de kolom langer wordt gemaakt.\n",
    "\n",
    "$\n",
    "H=Au^{1/3}+\\frac{B}{u}+Cu\n",
    "$\n",
    "\n",
    "```{dropdown} antwoord\n",
    "De deeltjes van de stof moeten een langere weg afleggen, het effect van het willekeurig pad dat deeltjes nemen wordt daardoor groter. A wordt dus groter. \n",
    "\n",
    "Over een langere kolom bestaat ook een groter concentratieverschil, hierdoor neemt de diffusie toen, dus B neemt toe.\n",
    "\n",
    "Doordat de kolom langer is, is er meer stationaire fase die delen van de stof kan vertragen, C neemt dus ook toe.\n",
    "\n",
    "\n",
    "```\n",
    "````\n",
    "`````\n",
    "``````"
   ]
  }
 ],
 "metadata": {
  "kernelspec": {
   "display_name": "Python 3",
   "language": "python",
   "name": "python3"
  },
  "language_info": {
   "codemirror_mode": {
    "name": "ipython",
    "version": 3
   },
   "file_extension": ".py",
   "mimetype": "text/x-python",
   "name": "python",
   "nbconvert_exporter": "python",
   "pygments_lexer": "ipython3",
   "version": "3.12.4"
  }
 },
 "nbformat": 4,
 "nbformat_minor": 2
}