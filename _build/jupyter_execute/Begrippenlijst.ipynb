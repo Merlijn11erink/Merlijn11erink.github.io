{
 "cells": [
  {
   "cell_type": "markdown",
   "metadata": {},
   "source": [
    "## Begrippenlijst"
   ]
  },
  {
   "cell_type": "markdown",
   "metadata": {},
   "source": [
    "## Destillatie\n",
    "```{figure} images/figuur-14.jpg\n",
    "---\n",
    "width: 657px\n",
    "name: vigreux\n",
    "---\n",
    "foto van een vigreux\n",
    "```\n",
    "```{glossary}\n",
    "Vigreux\n",
    "    Een type glaswerk in de vorm van een buis met delen die naar binnen wijzen, deze delen doen door hun vorm denken aan spijkers.   \n",
    "\n",
    "Rectificeren\n",
    "    Het herhalen van destillaties om een zuiverder product te verkrijgen.\n",
    "\n",
    "\n",
    "    \n",
    "\n",
    "```"
   ]
  },
  {
   "cell_type": "markdown",
   "metadata": {},
   "source": [
    "\n",
    "```{glossary}\n",
    "Rectificeren\n",
    "    Het herhalen van destillaties om een zuiverder product te verkrijgen.\n",
    "\n",
    "Vigreux\n",
    "    Een type glaswerk in de vorm van een buis met delen die naar binnen wijzen, deze delen doen door hun vorm denken aan spijkers.   \n",
    "    \n",
    "\n",
    "```"
   ]
  },
  {
   "cell_type": "markdown",
   "metadata": {},
   "source": [
    "### Exctractie\n",
    "```{glossary}\n",
    "Polariteit\n",
    "  Een maatstaaf voor hoe sterk de verdeling van de elektronen van een molecuul leidt tot een positief en een negatief geladen pool.\n",
    "\n",
    "Polair\n",
    "  Eigenschap van een stof, ieder molecuul heeft een kant die een beetje positief geladen is en een kant die een beetje negatief geladen is.\n",
    "\n",
    "Apolair\n",
    "  Niet polair. Eigenschap van een stof, alle moleculen hebben geen verdeling van lading *waardoor* één kant meer positief geladen is dan een andere kant die meer negatief geladen is. \n",
    "\n",
    "Dipool\n",
    "  Bevat twee polen, een polair molecuul.\n",
    "\n",
    "Dipoolmoment\n",
    "  De grootheid die hoort bij polariteit, dipoolmoment wordt uitgedrukt in de eenheid Cm (coulombmeter). Dit geeft aan hoe groot de lading is en hoe ver dit uit elkaar zit. \n",
    "\n",
    "```"
   ]
  },
  {
   "cell_type": "markdown",
   "metadata": {},
   "source": [
    "### Chromatografie\n",
    "```{glossary}\n",
    "Retentietijd\n",
    "  De tijd die een stof nodig heeft om volledig door een chromatografiekolom te reizen.\n",
    "  \n",
    "Retardatiefactor\n",
    "  De verhouding tussen de afstand die de stof aflegt en de afstand die de loopvloeistof aflegt, uitgedrukt als een getal tussen 0 en 1.  \n",
    "\n",
    "Eluens\n",
    "  Een ander woord voor loopvloeistof.\n",
    "\n",
    "```"
   ]
  }
 ],
 "metadata": {
  "kernelspec": {
   "display_name": "Python 3",
   "language": "python",
   "name": "python3"
  },
  "language_info": {
   "codemirror_mode": {
    "name": "ipython",
    "version": 3
   },
   "file_extension": ".py",
   "mimetype": "text/x-python",
   "name": "python",
   "nbconvert_exporter": "python",
   "pygments_lexer": "ipython3",
   "version": "3.12.4"
  }
 },
 "nbformat": 4,
 "nbformat_minor": 2
}