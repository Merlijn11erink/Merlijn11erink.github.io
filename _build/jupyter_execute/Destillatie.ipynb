{
 "cells": [
  {
   "cell_type": "markdown",
   "metadata": {},
   "source": [
    "## Destillatie"
   ]
  },
  {
   "cell_type": "markdown",
   "metadata": {},
   "source": [
    "```{figure} images/figuur-5.gif\n",
    "---\n",
    "width: 657px\n",
    "name: destillatie\n",
    "---\n",
    "destillatie van ethanol in water\n",
    "```"
   ]
  },
  {
   "cell_type": "markdown",
   "metadata": {},
   "source": [
    "## Leerdoelen\n",
    "- Je kan benoemen op welk principe destillatie werkt.\n",
    "- Je kan uitleggen wanneer destillatie geschikt is als scheidingsmethode.\n",
    "- Je kan uitleggen hoe destillatie verloopt.\n",
    "- Je kan benoemen welke factoren van invloed zijn op destillatie."
   ]
  },
  {
   "cell_type": "markdown",
   "metadata": {},
   "source": [
    "## Voorkennis\n",
    "In de onderbouw zal je geleerd hebben dat destillatie een scheidingsmethode is die berust op een verschil in kookpunt. Ook dat zuivere stoffen een kookpunt hebben en mengsels een kooktraject. In werkelijkheid is dit wat complexer, daar gaan we in deze paragraaf verder op in."
   ]
  },
  {
   "cell_type": "markdown",
   "metadata": {},
   "source": [
    "## Wat is koken?\n",
    "een zuivere stof of mengsel kookt wanneer de dampdruk gelijk is aan de omliggende druk. Op zeeniveau heerst atmosferische druk. Hoog in de bergen is de luchtdruk lager, hierdoor wordt de dampdruk sneller gelijk aan de omliggende druk en kookt dezelfde stof of mengsel bij een lagere temperatuur. \n",
    "\n",
    "Dampdruk is een stofeigenschap, de dampdruk van een stof neemt toe als de temperatuur toeneemt. Het kookpunt is de temperatuur waarbij de dampdruk van een stof of mengsel  gelijk is aan de omliggende druk. \n",
    "\n",
    "Het kookpunt van een mengsel is afhankelijk van de dampdruk van de stoffen waaruit het mengsel bestaat. Door een verschil in dampdruk tussen de stoffen van een mengsels zal de damp uit een andere verhouding bestaan dan het vloeibaar mengsel. Hierdoor verandert de verhouding van het mengsel en verplaatst het kookpunt zich. Dit is waardoor een kooktraject ontstaat."
   ]
  },
  {
   "cell_type": "markdown",
   "metadata": {},
   "source": [
    "```{figure} images/figuur-7.jpeg\n",
    "---\n",
    "width: 1597px\n",
    "name: het koken van water\n",
    "---\n",
    "het koken van water\n",
    "```"
   ]
  },
  {
   "cell_type": "markdown",
   "metadata": {},
   "source": [
    "```{figure} images/figuur-6.GIF\n",
    "---\n",
    "width: 1597px\n",
    "name: het koken van water\n",
    "---\n",
    "het koken van water\n",
    "```"
   ]
  },
  {
   "cell_type": "markdown",
   "metadata": {},
   "source": [
    "## Principe van Destillatie\n",
    "Destillatie is een scheidingsmethode die berust op het verschil in dampdruk bij het koken van het mengsel. Tussen een opgelost \"vaste\" stof die geen dampdruk heeft en de vloeistof waarin die is opgelost die wel een dampdruk heeft, is de scheiding maximaal. \n",
    "\n",
    "Bij een vloeistof die opgelost is in een andere vloeistof, hebben beide een dampdruk. De verhouding tussen die dampdrukken bepaalt de verhouding van de stoffen in de damp en dus in je destillaat."
   ]
  },
  {
   "cell_type": "markdown",
   "metadata": {},
   "source": [
    "## Het proces van Destillatie\n",
    "\n",
    "### Standaard Destillatie\n",
    "De simpelste vorm van destillatie vindt plaats onder standaard druk. Het vloeibare mengsel wordt in een kolf tot koken gebracht. De stof met het laagste kookpunt en dus de grootste dampdruk zal het grootste deel van de damp vormen, maar als de andere stof een vloeistof zal deze ook deels meeverdampen. De damp wordt door een liebigkoeler geleid waar het condenseert en wordt verzameld in een andere kolf. Bij complexere mengsels kan je ook verschillende bestandelen opvangen in verschillende kolfen, dit noemen we gefractioneerde destillatie.\n",
    "\n",
    "Bij het koken van een mengsel van twee vloeistoffen, zal de verhouding in de kolf veranderen omdat de ene stof meer verdampt dan de andere. Daardoor verandert ook het kookpunt. Om de relatie tussen kookpunt en verhouding van de stoffen weer te geven, is de kooklus bedacht, zie afbeelding hieronder. \n",
    "\n",
    "```{figure} images/figuur-10.jpg\n",
    "---\n",
    "width: 1597px\n",
    "name: kooklus\n",
    "---\n",
    "kooklus\n",
    "```\n",
    "Om bij een standaard destillatie een pure stof te verkijgen, zullen we meerdere keren moeten destilleren. Als we beginnen met een mengsel van 50/50 stof A en B, en we brengen dit aan de kook, komen we bij punt a uit in de kooklus. De damp die dan vormt zal dan bestaan uit de verhouding bij punt b. De damp koelt af en het verkregen destillaat is dan punt c. Als we dit destillaat opnieuw aan de kook brengen, dan komt er een damp vrij met de verhouding van punt d, wanneer dit condenseert zijn we bij punt e aangekomen. \n",
    "\n",
    "Aangezien we niet op fracties uit zijn, zou het fijn zijn als al deze stappen tegelijkertijd zouden kunnen plaatsvinden. Dit noemen we **{term}`rectificeren`**, door middel van een **{term}`vigreux`** of op industriële schaal een rectificatiekolom kan dit worden bereikt. Door de inhammen in deze opstellingen is er veel contactoppervlak en koelt een deel van de damp af en condenseert. Door de vorm van de kolom loopt de condens naar beneden door nieuwe damp heen, hierdoor wordt het weer opgewarmt en als het ware opnieuw gedestilleerd wanneer het tot koken komt. Zo worden heel veel destillaties over de lengte van de kolom allemaal tegelijk uitgevoerd en komt er aan het eind van de opstelling een zuivere stof uitrollen.\n",
    "\n",
    "### Stoomdestillatie\n",
    "Er gelden 3 voorwaarden voor de te scheiden stof om goed te werken met deze vorm van destillatie:\n",
    "- De stof moet stabiel zijn in kokend water, dus niet ontleden of reacties ondergaan met de andere stoffen in het mengsel.\n",
    "- De stof moet relatief slecht oplosbaar zijn in kokend water.\n",
    "- De dampdruk van de stof in kokend water moet rond de 1kPa liggen, dat is 1/100 van atmosferische druk.\n",
    "als twee of meer stoffen van een mengsel hieraan voldoen, zijn ze met deze methode slecht van elkaar te scheiden.\n",
    "\n",
    "Bij stoomdestillatie wordt aan een mengsel, vaak van organische stoffen, water toegevoegd. Kaneelaldehyde komt voor in de bast van de kaneelboom en is de stof verantwoordelijk voor de smaak van kaneel. Deze stof valt goed van de bast te scheiden door stoomdestillatie. Kaneelaldehyde lost slecht op in water, maar wel goed op in stoom, wanneer het water kookt, wordt het meegenomen in de stoom. Wanneer de damp condenseert zal er een twee lagen systeem vormen omdat het water en de kaneelaldehyde slecht in elkaar oplossen. \n",
    "\n",
    "### Destillatie onder verminderde druk\n",
    "Destillatie onder verminderde druk kan energie besparen doordat het kookpunt van het mengsel lager komt te liggen. De omliggende druk is lager, dus dampdruk voor koken ligt ook lager. De grootste voordelen van destillatie onder verminderde druk komt echter niet van de energiebesparing door de lagere temperatuur. Door de lagere temperatuur kunnen stoffen die niet stabiel zijn bij hogere temperaturen, omdat ze ontleden of reacties aangaan met andere stoffen in het mengsel, toch gescheiden worden.\n",
    "\n",
    "### Azeotropische destillatie\n",
    "een azeotroop is een specifiek mengsel van twee vloeistoffen die op een bepaalde temperatuur een damp produceert dat dezelfde verhouding heeft als dat mengsel. Dit betekent dat je geen mengsel puurder dan dit punt kan bereiken. We maken onderscheid tussen een minimum azeotroop waarbij het kookpunt minimaal is, en een maximum azeotroop waarbij dit verschijnsel optreed bij een maximale temperatuur in de kooklus.\n",
    "\n",
    "```{figure} images/figuur-11.gif\n",
    "---\n",
    "width: 1597px\n",
    "name: kooklus minimum azeotroop\n",
    "---\n",
    "kooklus van een minimum azeotroop\n",
    "```\n",
    "\n",
    "```{figure} images/figuur-12.gif\n",
    "---\n",
    "width: 1597px\n",
    "name: kooklus maximum azeotroop\n",
    "---\n",
    "kooklus van een maximum azeotroop\n",
    "```\n",
    "\n",
    "### Gefractioneerde destillatie\n",
    "```{figure} images/figuur-13.jpg\n",
    "---\n",
    "width: 1597px\n",
    "name: destillatiekolom\n",
    "---\n",
    "Destillatiekolom bij aardolie\n",
    "```\n",
    "Bij het destilleren van aardolie wordt een kolom gebruikt met schotels, ieder \"bakje\" is een schotel. Op iedere schotel heerst een evenwicht tussen vloeistof op de schotel en de damp erboven. Het totaal aantal schotels noemen we het **{term}`schotelgetal`**. \n",
    "\n",
    "De destillatiekolommen in laboratoria hebben geen echte schotels, denk bijvoorbeeld aan een **{term}`vigreux`**. We kunnen echter wel theoretische schotels toekennen aan een destillatiekolom. Om dit te doen moet je een bepaald mengsel gebruiken als standaard. Als je dit mengsel destilleert met de kolom en dan de samenstelling van het destillaat bepaald, kan je dit vergelijken met de samenstelling die komt uit een kolom met echte schotels. Door aan een kolom een schotelgetal toe te kennen, zeg je dat deze kolom net zo goed destilleert als een kolom die daadwerkelijk dat aantal schotels heeft."
   ]
  },
  {
   "cell_type": "markdown",
   "metadata": {},
   "source": [
    "## Praktijkvoorbeelden\n",
    "Destillatie wordt o.a. toegepast voor het maken van sterke drank. Sterke dranken hebben een alcoholpercentage van minstens 15%. De alcohol in alcoholische dranken wordt gevormd door gistcellen die het suiker vergisten tot alcohol. Rond de 15% alcohol beginnen de gistcellen te sterven, en stijgt het alcohol percentage niet meer. Om deze dranken een hoger alcoholpercentage te geven, worden ze gedestilleerd. Er blijft meer water achter dan alcohol, het destillaat bevat daardoor een hoger alcoholgehalte. "
   ]
  },
  {
   "cell_type": "markdown",
   "metadata": {},
   "source": [
    "## Opgaven"
   ]
  },
  {
   "cell_type": "markdown",
   "metadata": {},
   "source": [
    "- Maak steeds één opgave.\n",
    "- Schrijf het antwoord in je schrift. \n",
    "- Kijk dan na door op antwoord te klikken.\n",
    "- Verbeter zo nodig.\n",
    "- Ga dan pas door met de volgende opgave."
   ]
  },
  {
   "cell_type": "markdown",
   "metadata": {},
   "source": [
    "``````{admonition} Kennisopgaven\n",
    ":class: note, dropdown\n",
    "`````{tab-set}\n",
    "````{tab-item} K1\n",
    "Welk verschil in stofeigenschappen wordt gebruikt voor Destillatie?\n",
    "```{dropdown} antwoord\n",
    "Voor destillatie wordt het verschil in dampdruk tussen stoffen gebruikt.\n",
    "```\n",
    "````\n",
    "\n",
    "````{tab-item} K2\n",
    "Wanneer verloopt de scheiding bij destillatie het beste?\n",
    "```{dropdown} antwoord\n",
    "De scheiding bij destillatie verloopt het beste als de dampdruk van de ene stof veel groter is dan de dampdruk van de andere stof. \n",
    "```\n",
    "````\n",
    "`````\n",
    "``````"
   ]
  },
  {
   "cell_type": "markdown",
   "metadata": {},
   "source": [
    "``````{admonition} Toepassingsopgaven\n",
    ":class: note, dropdown\n",
    "`````{tab-set}\n",
    "````{tab-item} T1\n",
    "```{figure} images/figuur-16.jpeg\n",
    "---\n",
    "width: 657px\n",
    "name: destillatie\n",
    "---\n",
    "kooklus van 2-propanol en 2-methyl-1-propanol\n",
    "```\n",
    "Bepaal de molfracties van de damp en vloeistof wanneer deze in evenwicht zijn bij een temperatuur van 100°C.\n",
    "\n",
    "```{dropdown} antwoord\n",
    "0,38±2 2-propanol\n",
    "\n",
    "0,17±2 2-methyl-1-propanol\n",
    "\n",
    "\n",
    "```\n",
    "````\n",
    "\n",
    "````{tab-item} T2\n",
    "Bepaal:\n",
    "- bij welke temperatuur een mengsel van 2-propanol met molfractie 0,80 kookt, \n",
    "- wat de samenstelling van de damp is, \n",
    "- bij welke temperatuur deze damp condenseert\n",
    "- en wat de samenstelling is van de gecondenseerde vloeistof.\n",
    "\n",
    "```{dropdown} antwoord\n",
    "- Een mengsel van 2-propanol met molfractie 0,80 kookt bij 84°C, dit is het punt van de molfractie op de vloeistoflijn.\n",
    "- De samenstelling van de damp is gelijk aan de damplijn bij dezelfde temperatuur, in dit geval is dat 0,95.\n",
    "- Als je dit punt naar beneden trekt naar de vloeistoflijn, vindt je de temperatuur waarbij de damp condenseert, in dit geval is dat ~82°C.\n",
    "\n",
    "\n",
    "```\n",
    "````\n",
    "`````\n",
    "``````"
   ]
  },
  {
   "cell_type": "markdown",
   "metadata": {},
   "source": [
    "``````{admonition} Inzichtsopgaven\n",
    ":class: note, dropdown\n",
    "`````{tab-set}\n",
    "````{tab-item} I1\n",
    "\n",
    "\n",
    "\n",
    "```{dropdown} antwoord\n",
    "\n",
    "\n",
    "\n",
    "```\n",
    "````\n",
    "\n",
    "````{tab-item} I2\n",
    "\n",
    "\n",
    "\n",
    "```{dropdown} antwoord\n",
    "\n",
    "\n",
    "\n",
    "```\n",
    "````\n",
    "`````\n",
    "``````"
   ]
  },
  {
   "cell_type": "markdown",
   "metadata": {},
   "source": [
    "## Practica"
   ]
  }
 ],
 "metadata": {
  "kernelspec": {
   "display_name": "Python 3",
   "language": "python",
   "name": "python3"
  },
  "language_info": {
   "codemirror_mode": {
    "name": "ipython",
    "version": 3
   },
   "file_extension": ".py",
   "mimetype": "text/x-python",
   "name": "python",
   "nbconvert_exporter": "python",
   "pygments_lexer": "ipython3",
   "version": "3.12.4"
  }
 },
 "nbformat": 4,
 "nbformat_minor": 2
}