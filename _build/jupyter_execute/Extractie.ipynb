{
 "cells": [
  {
   "cell_type": "markdown",
   "metadata": {},
   "source": [
    "# Extractie"
   ]
  },
  {
   "cell_type": "markdown",
   "metadata": {},
   "source": [
    "```{figure} images/figuur-3.gif\n",
    "---\n",
    "width: 657px\n",
    "name: thee\n",
    "---\n",
    "theezetten\n",
    "```"
   ]
  },
  {
   "cell_type": "markdown",
   "metadata": {},
   "source": [
    "## Leerdoelen"
   ]
  },
  {
   "cell_type": "markdown",
   "metadata": {},
   "source": [
    "## Voorkennis\n",
    "Scheidingsmethoden berusten altijd op een verschil in stofeigenschap om de stoffen te scheiden. Wanneer een stof oplost worden er altijd bindingen verbroken tussen de stof, en nieuwe bindingen gevormd tussen de stof en het oplosmiddel. De oplosbaarheid, hoe goed een stof in een specifiek oplosmiddel oplost, is afhankelijk van de bindingen die de stof met het oplosmiddel kan vormen."
   ]
  },
  {
   "cell_type": "markdown",
   "metadata": {},
   "source": [
    "## Principe van Extractie\n",
    "Extractie is een scheidingsmethode die berust op een verschil in oplosbaarheid. Tijdens extractie lossen een deel van de stoffen wel op in het extractiemiddel, en een deel niet. "
   ]
  },
  {
   "cell_type": "markdown",
   "metadata": {},
   "source": [
    "## Vaste stof/vloeistof extractie\n",
    "Bij dit type extractie worden stoffen uit een vast mengsel van elkaar gescheiden op basis van hun oplosbaarheid in het extractiemiddel. Welke stoffen er wel en niet oplossen wordt bepaald door de polariteit van de stof en die van het extractiemiddel. \n",
    "\n",
    "Verbindingen kunnen polair of apolair zijn. Een polaire verbinding heeft een kant die een beetje positief geladen is en een kant die een beetje negatief geladen is. Hierdoor is er een positieve pool en een negatieve pool binnen de moleculen van de stof. Een apolaire verbinding heeft geen positieve en negatieve pool. Polaire stoffen kunnen een extra binding aan gaan, de dipool-dipool binding. Ieder molecuul bevat namelijk twee polen, de positieve pool bindt zich aan de negatieve pool van een ander molecuul. Hoe polair een stof is wordt uitgedrukt in het dipoolmoment (in Cm), hoe groter het dipoolmoment, hoe meer polair de stof is.\n",
    "\n",
    "Polaire stoffen lossen goed in elkaar op omdat ze dezelfde typen bindingen met elkaar kunnen aangaan. Apolaire stoffen lossen daarom ook goed in elkaar op. Maar een apolaire stof lost niet goed op in een polaire stof, net als een polaire stof niet goed oplost in een apolaire stof. De polaire stoffen blijven door hun dipool-dipool binding aan elkaar, ze laten pas los als ze nieuwe dipool-dipool bindingen kunnen vormen. Apolaire stoffen kunnen alleen vanderwaalsbindingen vormen."
   ]
  },
  {
   "cell_type": "markdown",
   "metadata": {},
   "source": [
    "## Vloeistof/vloeistof extractie\n",
    "Bij dit type extractie worden opgeloste stoffen van elkaar gescheiden doordat bepaalde stoffen zich gedeeltelijk verplaatsen naar het extractiemiddel. Hierbij zal een evenwicht ontstaan tussen de molariteit van de opgeloste stof in de beginvloeistof en de molariteit van diezelfde stof in het extractriemiddel. In een formule geven we dat zo weer:\n",
    "\n",
    "K<sub>c</sub>= $ \\frac{[opgeloste\\, stof(extractiemiddel)]}{[opgeloste\\, stof(beginvloeistof)]}$\n",
    "\n",
    "Een vereiste voor dit type extractie is dat de beginvloeistof en het extractiemiddel niet een stabiel mengsel vormen.\n",
    "\n",
    "Omdat slechts een deel van de stoffen naar het extractiemiddel verplaatst, kan je een hogere opbrengst bereiken door de extractie meerdere keren te herhalen met schoon extractiemiddel. De formule voor de opbrengst na n aantal keer extraheren is:\n",
    "\n",
    "$\n",
    "g_n=g_0(\\frac{V_{H_2O}}{K_c\\times V_{org}+V_{H_2O}})^n\n",
    "$\n",
    "- K<sub>c</sub> is de evenwichtsconstante\n",
    "- V<sub>H<sub>2</sub>O</sub> is het volume van water\n",
    "- V<sub>org</sub> is het volume van het organische oplosmiddel\n",
    "- n is het aantal keer extractie"
   ]
  },
  {
   "cell_type": "markdown",
   "metadata": {},
   "source": [
    "## Praktijkvoorbeelden"
   ]
  },
  {
   "cell_type": "markdown",
   "metadata": {},
   "source": [
    "## Opgaven"
   ]
  },
  {
   "cell_type": "markdown",
   "metadata": {},
   "source": [
    "## Practica"
   ]
  }
 ],
 "metadata": {
  "kernelspec": {
   "display_name": "Python 3",
   "language": "python",
   "name": "python3"
  },
  "language_info": {
   "codemirror_mode": {
    "name": "ipython",
    "version": 3
   },
   "file_extension": ".py",
   "mimetype": "text/x-python",
   "name": "python",
   "nbconvert_exporter": "python",
   "pygments_lexer": "ipython3",
   "version": "3.12.4"
  }
 },
 "nbformat": 4,
 "nbformat_minor": 2
}