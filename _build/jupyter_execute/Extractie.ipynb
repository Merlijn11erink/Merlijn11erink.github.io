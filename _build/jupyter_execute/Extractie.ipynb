{
 "cells": [
  {
   "cell_type": "markdown",
   "metadata": {},
   "source": [
    "# Extractie"
   ]
  },
  {
   "cell_type": "markdown",
   "metadata": {},
   "source": [
    "```{figure} images/figuur-3.gif\n",
    "---\n",
    "width: 657px\n",
    "name: thee\n",
    "---\n",
    "theezetten\n",
    "```"
   ]
  },
  {
   "cell_type": "markdown",
   "metadata": {},
   "source": [
    "## Leerdoelen\n",
    "- Je kan benoemen op welk principe extractie werkt\n",
    "- Je kan uitleggen wanneer extractie geschikt is als scheidingsmethode\n",
    "- Je kan uitleggen hoe extractie verloopt\n",
    "- Je kan benoemen welke factoren van invloed zijn op extractie\n",
    "- Je kan rekenen aan een vloeistof/vloeistof extractie"
   ]
  },
  {
   "cell_type": "markdown",
   "metadata": {},
   "source": [
    "## Voorkennis\n",
    "Scheidingsmethoden berusten altijd op een verschil in stofeigenschap om de stoffen te scheiden. Wanneer een stof oplost worden er altijd bindingen verbroken tussen de stof, en nieuwe bindingen gevormd tussen de stof en het oplosmiddel. De oplosbaarheid, hoe goed een stof in een specifiek oplosmiddel oplost, is afhankelijk van de bindingen die de stof met het oplosmiddel kan vormen."
   ]
  },
  {
   "cell_type": "markdown",
   "metadata": {},
   "source": [
    "## Principe van Extractie\n",
    "Extractie is een scheidingsmethode die berust op een verschil in oplosbaarheid. Tijdens extractie lossen een deel van de stoffen wel op in het extractiemiddel, en een deel niet. "
   ]
  },
  {
   "cell_type": "markdown",
   "metadata": {},
   "source": [
    "## Vaste stof/vloeistof extractie\n",
    "Bij dit type extractie worden stoffen uit een vast mengsel van elkaar gescheiden op basis van hun oplosbaarheid in het extractiemiddel. Welke stoffen er wel en niet oplossen wordt bepaald door de **{term}`polariteit`** van de stof en die van het extractiemiddel. \n",
    "\n",
    "Verbindingen kunnen **{term}`polair`** of **{term}`apolair`** zijn. Een polaire verbinding heeft een kant die een beetje positief geladen is en een kant die een beetje negatief geladen is. Hierdoor is er een positieve pool en een negatieve pool binnen de moleculen van de stof. Een apolaire verbinding heeft geen positieve en negatieve pool. Moleculen van polaire stoffen hebben twee polen daarom noemen we ze ookwel een **{term}`dipool`**. Deze stoffen kunnen een extra binding aan gaan: de dipool-dipool binding. De positieve pool van een molecuul kan zich binden aan de negatieve pool van een ander molecuul. Hoe **{term}`polair`** een stof is wordt uitgedrukt in het **{term}`dipoolmoment`** (in Cm), hoe groter het **{term}`dipoolmoment`**, hoe meer **{term}`polair`** de stof is.\n",
    "\n",
    "Polaire stoffen lossen goed in elkaar op omdat ze dezelfde typen bindingen met elkaar kunnen aangaan. Apolaire stoffen lossen daarom ook goed in elkaar op. Maar een apolaire stof lost niet goed op in een polaire stof, net als een polaire stof niet goed oplost in een apolaire stof. De polaire stoffen blijven door hun dipool-dipool binding aan elkaar, ze laten pas los als ze nieuwe dipool-dipool bindingen kunnen vormen. Apolaire stoffen kunnen alleen vanderwaalsbindingen vormen."
   ]
  },
  {
   "cell_type": "markdown",
   "metadata": {},
   "source": [
    "## Vloeistof/vloeistof extractie\n",
    "Bij dit type extractie worden opgeloste stoffen van elkaar gescheiden doordat bepaalde stoffen zich gedeeltelijk verplaatsen naar het extractiemiddel. Hierbij zal een evenwicht ontstaan tussen de molariteit van de opgeloste stof in de beginvloeistof en de molariteit van diezelfde stof in het extractriemiddel. In een formule geven we dat zo weer:\n",
    "\n",
    "K<sub>c</sub>= $ \\frac{[opgeloste\\, stof(extractiemiddel)]}{[opgeloste\\, stof(beginvloeistof)]}$\n",
    "\n",
    "Een vereiste voor dit type extractie is dat de beginvloeistof en het extractiemiddel niet een stabiel mengsel vormen.\n",
    "\n",
    "Omdat slechts een deel van de stoffen naar het extractiemiddel verplaatst, kan je een hogere opbrengst bereiken door de extractie meerdere keren te herhalen met schoon extractiemiddel. De formule voor de opbrengst na n aantal keer extraheren is:\n",
    "\n",
    "$\n",
    "g_n=g_0(\\frac{V_{H_2O}}{K_c\\times V_{org}+V_{H_2O}})^n\n",
    "$\n",
    "- g<sub>n</sub> = hoeveelheid stof die na n extractietrappen in de waterlaag achterblijft (g)\n",
    "- g<sub>0</sub> = hoeveelheid stof aanwezig vóór extractie (g)\n",
    "- K<sub>c</sub> = de verdelingscoëfficiënt met de extractievloeistof in de teller.\n",
    "- V<sub>H<sub>2</sub>O</sub> = het volume van water (ml)\n",
    "- V<sub>org</sub> = het volume van het organische oplosmiddel per keer (ml).\n",
    "- n = het aantal keer extractie"
   ]
  },
  {
   "cell_type": "markdown",
   "metadata": {},
   "source": [
    "## Praktijkvoorbeelden"
   ]
  },
  {
   "cell_type": "markdown",
   "metadata": {},
   "source": [
    "## Opgaven"
   ]
  },
  {
   "cell_type": "markdown",
   "metadata": {},
   "source": [
    "``````{admonition} Kennisopgaven\n",
    ":class: note, dropdown\n",
    "`````{tab-set}\n",
    "````{tab-item} K1\n",
    "Welk verschil in stofeigenschap wordt gebruikt voor extractie?\n",
    "```{dropdown} antwoord\n",
    "De Oplosbaarheid.\n",
    "```\n",
    "````\n",
    "\n",
    "````{tab-item} K2\n",
    "Wanneer verloopt vaste stof/vloeistof extractie het beste?\n",
    "```{dropdown} antwoord\n",
    "Vaste stof/vloeistof extractie verloopt het beste als de ene vaste stof goed oplost in het extractiemiddel en de andere vaste stof slecht of niet oplost in het extractiemiddel.\n",
    "```\n",
    "````\n",
    "\n",
    "````{tab-item} K3\n",
    "Wanneer verloopt vloeistof/vloeistof extractie het beste? Benoem daarbij alle factoren uit de formule:\n",
    "$\n",
    "g_n=g_0(\\frac{V_{H_2O}}{K_c\\times V_{org}+V_{H_2O}})^n\n",
    "$\n",
    "```{dropdown} g<sub>n</sub>, de opbrengst, is het hoogst als:\n",
    "- er zoveel mogelijk stof in de voeding zit, g_0.\n",
    "- de oplosbaarheid van de stof veel groter is in het extractiemiddel dan in water, K<sub>c</sub>.\n",
    "- het volume van water zo klein mogelijk is, V<sub>H<sub>2</sub>O</sub>\n",
    "- het volume van de extractievloeistof per keer zo groot mogelijk is, V<sub>org</sub>\n",
    "- er zo vaak mogelijk wordt geëxtraheerd, n\n",
    "```\n",
    "````\n",
    "`````\n",
    "``````"
   ]
  },
  {
   "cell_type": "markdown",
   "metadata": {},
   "source": [
    "## Practica"
   ]
  }
 ],
 "metadata": {
  "kernelspec": {
   "display_name": "Python 3",
   "language": "python",
   "name": "python3"
  },
  "language_info": {
   "codemirror_mode": {
    "name": "ipython",
    "version": 3
   },
   "file_extension": ".py",
   "mimetype": "text/x-python",
   "name": "python",
   "nbconvert_exporter": "python",
   "pygments_lexer": "ipython3",
   "version": "3.12.4"
  }
 },
 "nbformat": 4,
 "nbformat_minor": 2
}