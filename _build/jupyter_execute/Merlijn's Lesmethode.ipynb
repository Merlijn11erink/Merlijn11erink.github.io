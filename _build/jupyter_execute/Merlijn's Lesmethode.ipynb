{
 "cells": [
  {
   "cell_type": "markdown",
   "metadata": {},
   "source": [
    "# Herkristallisatie"
   ]
  },
  {
   "cell_type": "markdown",
   "metadata": {},
   "source": [
    "## Leerdoelen\n",
    "- Je kan benoemen op welk principe herkristallisatie werkt\n",
    "- Je kan uitleggen wanneer herkristallisatie geschikt is als scheidingsmethode\n",
    "- Je kan uitleggen hoe herkristallisatie verloopt\n",
    "- Je kan benoemen welke factoren van invloed zijn op herkristallisatie\n",
    "- Je kan uitleggen hoe je de kristallen zuiver kan scheiden"
   ]
  },
  {
   "cell_type": "markdown",
   "metadata": {},
   "source": [
    "## Voorkennis\n",
    "Scheidingsmethoden berusten altijd op een verschil in stofeigenschap om de stoffen te separeren. Wanneer een stof oplost worden er altijd bindingen verbroken, en nieuwe bindingen gevormd. De oplosbaarheid, hoe goed een stof in een specifiek oplosmiddel oplost, is afhankelijk van de bindingen die de stof met het oplosmiddel kan vormen. Daarnaast is de oplosbaarheid ook afhankelijk van de temperatuur van het oplosmiddel. Ook dan speelt de aard van de stof een rol. De temperatuursafhankelijke oplosbaarheid is dus een stofeigenschap"
   ]
  },
  {
   "cell_type": "markdown",
   "metadata": {},
   "source": [
    "## Het proces\n",
    "1) Los het mengsel volledig op in zo min mogelijk heet oplosmiddel. Zo zijn de concentraties zo hoog mogelijk en zal bij verminderde oplosbaarheid zoveel mogelijk uit oplossing treden.\n",
    "2) Laat de oplossing afkoelen, hierdoor neemt de oplosbaarheid af, hoeveel die afneemt verschilt tussen de stoffen.\n",
    "3) Er vormt een neerslag van de stof waar de oplosbaarheid lager is geworden dan de concentratie. De andere stoffen blijven nog in oplossing.\n",
    "4) Filtreer nu het mengsel, het filtraat bevat de verontreiniging, het residu in je filter is je gezuiverde product."
   ]
  },
  {
   "cell_type": "markdown",
   "metadata": {},
   "source": [
    "`````{admonition} voorbeeldopdracht\n",
    ":class: tip\n",
    "Bereken de theoretische opbrengst als 30g mengsel van 1:5 NaNO3 en KClO3 wordt opgelost in 100ml water van 80°C en afgekoeld wordt tot 20°C.\n",
    "\n",
    "**stappenplan** \n",
    "1) Bereken het aantal gram van beide stoffen: \\frac{30g}{5delen+1deel}=5g/deel, dus 5g NaNO3 en 25g KClO3.\n",
    "2) Bereken de concentratie van beide stoffen:\n",
    "3) Bereken hoeveel van de stoffen opgelost blijft met de maximale oplosbaarheid bij 20°C uit figuur 2. Bereken hoeveel van de stoffen opgelost blijft met de maximale oplosbaarheid bij 20°C uit figuur 2.\n",
    "\n",
    "`````"
   ]
  },
  {
   "cell_type": "markdown",
   "metadata": {},
   "source": [
    "```{figure} images/figuur-2.png\n",
    "---\n",
    "width: 657px\n",
    "name: directive-fig\n",
    "---\n",
    "oplosbaarheid in water bij verschillende temperaturen\n",
    "```"
   ]
  }
 ],
 "metadata": {
  "kernelspec": {
   "display_name": "Python 3",
   "language": "python",
   "name": "python3"
  },
  "language_info": {
   "codemirror_mode": {
    "name": "ipython",
    "version": 3
   },
   "file_extension": ".py",
   "mimetype": "text/x-python",
   "name": "python",
   "nbconvert_exporter": "python",
   "pygments_lexer": "ipython3",
   "version": "3.12.4"
  }
 },
 "nbformat": 4,
 "nbformat_minor": 2
}