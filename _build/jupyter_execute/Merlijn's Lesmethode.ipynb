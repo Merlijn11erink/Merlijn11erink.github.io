{
 "cells": [
  {
   "cell_type": "markdown",
   "metadata": {},
   "source": [
    "# Herkristallisatie"
   ]
  },
  {
   "cell_type": "markdown",
   "metadata": {},
   "source": [
    "## Leerdoelen\n",
    "- Je kan benoemen op welk principe herkristallisatie werkt\n",
    "- Je kan uitleggen wanneer herkristallisatie geschikt is als scheidingsmethode\n",
    "- Je kan uitleggen hoe herkristallisatie verloopt\n",
    "- Je kan benoemen welke factoren van invloed zijn op herkristallisatie\n",
    "- Je kan uitleggen hoe je de kristallen zuiver kan scheiden"
   ]
  },
  {
   "cell_type": "markdown",
   "metadata": {},
   "source": [
    "```{note}\n",
    "this is a note\n",
    "```"
   ]
  }
 ],
 "metadata": {
  "language_info": {
   "name": "python"
  }
 },
 "nbformat": 4,
 "nbformat_minor": 2
}