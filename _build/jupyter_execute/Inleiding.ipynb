{
 "cells": [
  {
   "cell_type": "markdown",
   "metadata": {},
   "source": [
    "# Inleiding"
   ]
  },
  {
   "cell_type": "markdown",
   "metadata": {},
   "source": [
    "Dit digitaal lesmateriaal is geschreven door Merlijn Elferink(s1199075) voor het vak Scheidingsmethoden. "
   ]
  },
  {
   "cell_type": "markdown",
   "metadata": {},
   "source": [
    "Welkom in de wonderlijke wereld van scheidingsmethoden, onthoud dat een scheidingsmethode altijd berust op een **verschil** in stofeigenschap of -eigenschappen. "
   ]
  },
  {
   "cell_type": "markdown",
   "metadata": {},
   "source": [
    "In dit boek bespreken we de volgende scheidingsmethoden:\n",
    "\n",
    "{doc}`Herkristallisatie`\n",
    "\n",
    "{doc}`Destillatie`\n",
    "\n",
    "{doc}`Extractie`\n",
    "\n",
    "{doc}`Chromatografie`"
   ]
  }
 ],
 "metadata": {
  "kernelspec": {
   "display_name": "Python 3",
   "language": "python",
   "name": "python3"
  },
  "language_info": {
   "codemirror_mode": {
    "name": "ipython",
    "version": 3
   },
   "file_extension": ".py",
   "mimetype": "text/x-python",
   "name": "python",
   "nbconvert_exporter": "python",
   "pygments_lexer": "ipython3",
   "version": "3.12.4"
  }
 },
 "nbformat": 4,
 "nbformat_minor": 2
}