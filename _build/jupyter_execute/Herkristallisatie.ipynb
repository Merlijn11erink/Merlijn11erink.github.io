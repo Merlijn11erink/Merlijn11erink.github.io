{
 "cells": [
  {
   "cell_type": "markdown",
   "metadata": {},
   "source": [
    "# Herkristallisatie"
   ]
  },
  {
   "cell_type": "markdown",
   "metadata": {},
   "source": [
    "```{figure} images/figuur-1.gif\n",
    "---\n",
    "width: 657px\n",
    "name: recrystallization of acetanilide\n",
    "---\n",
    "herkristallisatie van acetanilide\n",
    "```"
   ]
  },
  {
   "cell_type": "markdown",
   "metadata": {},
   "source": [
    "## Leerdoelen\n",
    "- Je kan benoemen op welk principe herkristallisatie werkt.\n",
    "- Je kan uitleggen wanneer herkristallisatie geschikt is als scheidingsmethode.\n",
    "- Je kan uitleggen hoe herkristallisatie verloopt.\n",
    "- Je kan benoemen welke factoren van invloed zijn op herkristallisatie.\n",
    "- Je kan uitleggen hoe je de kristallen zuiver kan scheiden."
   ]
  },
  {
   "cell_type": "markdown",
   "metadata": {},
   "source": [
    "`````{admonition} Het maken van aspirine\n",
    "```{figure} images/figuur-20.gif\n",
    "---\n",
    "width: 657px\n",
    "name: aspirine\n",
    "---\n",
    "herkristallisatie van aspirine\n",
    "```\n",
    "Aspirine is een veelgebruikte en bekende pijnstiller. Aspirine wordt gemaakt door synthese of winning uit een natuurlijke bron. In beide gevallen moet het verkregen aspirine dan eerst worden gezuiverd door herkristallisatie.\n",
    "`````"
   ]
  },
  {
   "cell_type": "markdown",
   "metadata": {},
   "source": [
    "## Voorkennis\n",
    "Scheidingsmethoden berusten altijd op een verschil in stofeigenschap om de stoffen te scheiden. Wanneer een stof oplost worden er altijd bindingen verbroken, en nieuwe bindingen gevormd. De oplosbaarheid, hoe goed een stof in een specifiek oplosmiddel oplost, is afhankelijk van de bindingen die de stof met het oplosmiddel kan vormen. Daarnaast is de oplosbaarheid ook afhankelijk van de temperatuur van het oplosmiddel. Ook dan speelt de aard van de stof een rol. De temperatuursafhankelijke oplosbaarheid is **dus** een stofeigenschap"
   ]
  },
  {
   "cell_type": "markdown",
   "metadata": {},
   "source": [
    "## Principe van herkristallisatie\n",
    "Herkristallisatie is een scheidingsmethode die berust op een verschil in temperatuursafhankelijke oplosbaarheid. Voor verreweg de meeste vaste stoffen geldt dat hun oplosbaarheid in een oplosmiddel groter is, bij een hogere temperatuur. Door een mengsel van vaste stoffen te laten oplossen in verwarmd oplosmiddel, en dit langzaam af te laten koelen, zullen er kristallen vormen van de stof die niet meer in oplossing kan blijven omdat de oplosbaarheid is afgenomen. \n",
    "\n",
    "Voor de zuiverheid van de kristallen geldt: hoe trager het koelen verloopt, hoe puurder de kristallen zijn. Je kan dit vergelijken met het bouwen van een lego toren, als je heel snel een toren moet bouwen, dan pak je allerlei kleuren, maar als je de tijd neemt, kan je rustig naar één kleur zoeken en daaruit een toren bouwen. Als je het mengsel traag laat afkoelen, kunnen de deeltjes van de stof zich binden aan de kristalstructuur zonder dat ze andere stoffen meenemen of er insluiten.\n",
    "\n",
    "### Voorwaarden voor het oplosmiddel\n",
    "- Het oplosmiddel moet zo gekozen worden dat de andere stoffen wel in oplossing blijven wanneer het mengsel geheel afgekoeld is. \n",
    "- De oplosbaarheid van de stoffen van het mengsel in het gekozen oplosmiddel komen verder uit elkaar te liggen wanneer de temperatuur afneemt. Hoe groter het verschil hoe beter het scheiden verloopt."
   ]
  },
  {
   "cell_type": "markdown",
   "metadata": {},
   "source": [
    "## Het proces van Herkristallisatie\n",
    "1) Los het mengsel volledig op in zo min mogelijk heet oplosmiddel. Zo zijn de concentraties zo hoog mogelijk en zal bij verminderde oplosbaarheid zoveel mogelijk uit oplossing treden.\n",
    "2) Laat de oplossing afkoelen, hierdoor neemt de oplosbaarheid af, hoeveel die afneemt verschilt tussen de stoffen.\n",
    "3) Er vormt een neerslag van de stof waar de oplosbaarheid lager is geworden dan de concentratie. De andere stoffen blijven nog in oplossing.\n",
    "4) Filtreer nu het mengsel, het filtraat bevat de verontreiniging, het residu in je filter is je gezuiverde product."
   ]
  },
  {
   "cell_type": "markdown",
   "metadata": {},
   "source": [
    "`````{admonition} voorbeeldopdracht\n",
    ":class: tip\n",
    "Bereken de theoretische opbrengst als 30g mengsel van 1:5 NaNO<sub>3</sub> en KClO<sub>3</sub> wordt opgelost in 100ml water van 80°C en afgekoeld wordt tot 20°C.\n",
    "\n",
    "**stappenplan** \n",
    "1) Bereken het aantal gram van beide stoffen: \n",
    "$\n",
    " \\frac{30g}{5\\,delen+1\\,deel}=5g/deel \n",
    "$\n",
    ",dus 5g NaNO<sub>3</sub> en 25g KClO<sub>3</sub>.\n",
    "```{admonition} Let op!\n",
    ":class: warning\n",
    "bij verhoudingen moet je rekening houden met het aantal delen van het geheel. 1:5 betekent dus in totaal 6 delen.\n",
    "```\n",
    "2) Bereken de concentratie van beide stoffen:\n",
    "\n",
    "| stof | NaNO<sub>3</sub> | KClO<sub>3</sub> |\n",
    "|---|---|---|\n",
    "| massa | 5g | 25g|\n",
    "| volume | 100ml | 100ml|\n",
    "\n",
    "3) Bereken hoeveel van de stoffen opgelost blijft met de maximale oplosbaarheid bij 20°C uit figuur 2. \n",
    "\n",
    "| stof | NaNO<sub>3</sub> | maximale oplosbaarheid | KClO<sub>3</sub> | maximale oplosbaarheid |\n",
    "|---|---|---|---|---|\n",
    "| massa | 5g | 88g | 25g | 7g |\n",
    "| volume | 100ml | 100ml | 100ml | 100ml |\n",
    "\n",
    "25-7=18g KClO<sub>3</sub> is dus je opbrengst\n",
    "`````"
   ]
  },
  {
   "cell_type": "markdown",
   "metadata": {},
   "source": [
    "```{figure} images/figuur-2.png\n",
    "---\n",
    "width: 657px\n",
    "name: directive-fig\n",
    "---\n",
    "oplosbaarheid in water bij verschillende temperaturen\n",
    "```"
   ]
  },
  {
   "cell_type": "markdown",
   "metadata": {},
   "source": [
    "## Opgaven"
   ]
  },
  {
   "cell_type": "markdown",
   "metadata": {},
   "source": [
    "- Maak steeds één opgave.\n",
    "- Schrijf het antwoord in je schrift. \n",
    "- Kijk dan na door op antwoord te klikken.\n",
    "- Verbeter zo nodig.\n",
    "- Ga dan pas door met de volgende opgave."
   ]
  },
  {
   "cell_type": "markdown",
   "metadata": {},
   "source": [
    "``````{admonition} Kennisopgaven\n",
    ":class: note, dropdown\n",
    "`````{tab-set}\n",
    "````{tab-item} K1\n",
    "Welk verschil in stofeigenschap wordt gebruikt voor herkristallisatie?\n",
    "```{dropdown} antwoord\n",
    "De temperatuursafhankelijke oplosbaarheid\n",
    "```\n",
    "````\n",
    "\n",
    "````{tab-item} K2\n",
    "Wanneer verloopt herkristallisatie het beste?\n",
    "```{dropdown} antwoord\n",
    "Herkristallisatie verloopt het beste als het verschil in de temperatuursafhankelijke oplosbaarheid maximaal is.\n",
    "```\n",
    "````\n",
    "`````\n",
    "``````"
   ]
  },
  {
   "cell_type": "markdown",
   "metadata": {},
   "source": [
    "``````{admonition} Toepassingsopgaven\n",
    ":class: note, dropdown\n",
    "`````{tab-set}\n",
    "````{tab-item} T1\n",
    "Bereken de theoretische opbrengst als 70g mengsel van 1:10 Natriumnitraat en Loodnitraat wordt opgelost in 100ml water van 80°C en afgekoeld wordt tot 0°C en daarna gefiltreerd.\n",
    "```{dropdown} antwoord\n",
    "$\n",
    "\\frac{70g}{10\\,delen+1\\,deel}\\times\\,10delen=64g $ Loodnitraat in het mengsel\n",
    "\n",
    "trek daar de maximale oplosbaarheid van af.\n",
    "\n",
    "$\n",
    "64g/100ml-37g/100ml=27g$ treedt uit oplossing\n",
    "\n",
    "27 gram is de theoretisch opbrengst\n",
    "```\n",
    "````\n",
    "\n",
    "````{tab-item} T2\n",
    "Een 1:1 mengsel van twee zouten met een massa van 35,0 gram wordt volledig opgelost in 50,0ml water van 90°C en afgekoeld tot 30°C, de opbrengst is 12,5 gram. Toon met een berekening aan uit welk zout in figuur 2 de opbrengst bestaat.\n",
    "```{dropdown} antwoord\n",
    "| stof | Totaal | Zout1 | Zout2 | Zout1 | Zout 2 | Opbrengst | Opbrengst |\n",
    "|---|---|---|---|---|---|---|---|\n",
    "| massa (in g)| 35,0 | 17,5 | 17,5 | 35,0 | 35,0 | 12,5 | 25,0| \n",
    "| volume (in ml)| 50,0 | 50,0 | 50,0 | 100 | 100 | 50 | 100 |\n",
    "\n",
    "de maximale oplosbaarheid van zout 1 bij 30°C (de opbrengst) moet gelijk zijn aan: \n",
    "$ \n",
    "35-25=10g/100ml \n",
    "$\n",
    "\n",
    "Want volgens de tabel:\n",
    " voor iedere 100ml aan oplossing, is er 35g van zout1 aanwezig, \n",
    " waarvan 25g uit oplossing treed, \n",
    " omdat het de maximale oplosbaarheid overschrijdt.\n",
    "\n",
    "Volgens figuur 2 is dit KClO<sub>3</sub>, daaruit bestaat dus de opbrengst.\n",
    "```\n",
    "````\n",
    "`````\n",
    "``````"
   ]
  },
  {
   "cell_type": "markdown",
   "metadata": {},
   "source": [
    "``````{admonition} Inzichtsopgaven\n",
    ":class: note, dropdown\n",
    "`````{tab-set}\n",
    "````{tab-item} I1\n",
    "Zijn kaliumchloride en natriumchloride slecht van elkaar te scheiden door herkristallisatie in water? leg uit waarom wel of niet.\n",
    "```{dropdown} antwoord\n",
    "Kalium- en natriumchloride zijn slecht van elkaar te scheiden door herkristallisatie, het verschil in oplosbaarheid is erg klein tussen de twee zouten en krimpt naar mate het water afkoelt tot 30°C.\n",
    "```\n",
    "````\n",
    "\n",
    "````{tab-item} I2\n",
    "Is het voor de zouten uit figuur 2 mogelijk om een mengsel volledig te scheiden als er in verhouding meer van de verontreining is dan het gewenste product? Leg uit waarom wel of niet.\n",
    "```{dropdown} antwoord\n",
    "Het is mogelijk om de zouten uit figuur 2 volledig te scheiden als er meer verontreiniging is dan gewenst product. Voorwaarde voor volledig scheiden is dat de concentratie van de verontreiniging niet boven de oplosbaarheid komt. Zo blijft het in oplossing, terwijl het gewenst product uit oplossing treed. \n",
    "```\n",
    "````\n",
    "`````\n",
    "``````"
   ]
  },
  {
   "cell_type": "markdown",
   "metadata": {},
   "source": [
    "## Practica"
   ]
  },
  {
   "cell_type": "markdown",
   "metadata": {},
   "source": [
    "```{admonition} Zuivering van Aspirine\n",
    ":class: dropdown\n",
    "Van de docent krijg je aspirine dat nog verontreinigd is, of je hebt dit zelf gesynthetiseerd. Je kan de verontreiniging verminderen door herkristallisatie uit te voeren. \n",
    "```"
   ]
  },
  {
   "cell_type": "markdown",
   "metadata": {},
   "source": [
    "## Samenvatting\n",
    "- Herkristallisatie berust op het verschil in de oplosbaarheid van stoffen bij verschillende temperaturen.\n",
    "- Voor het oplosmiddel moeten alle stoffen volledig oplossen bij een verhoogde temperatuur, de oplosbaarheid van het gewenste product moet sterker afnemen wanneer de temperatuur daalt dan de oplosbaarheid van de andere stoffen zodat alleen het gewenste product neerslaat.\n",
    "- Je verwarmt het oplosmiddel omdat de oplosbaarheid van vaste stoffen dan toeneemt, zo lost alles op in je oplosmiddel.\n",
    "- Voor de koelsnelheid geldt, hoe trager, hoe puurder de kristallen zijn die vormen."
   ]
  }
 ],
 "metadata": {
  "kernelspec": {
   "display_name": "Python 3",
   "language": "python",
   "name": "python3"
  },
  "language_info": {
   "codemirror_mode": {
    "name": "ipython",
    "version": 3
   },
   "file_extension": ".py",
   "mimetype": "text/x-python",
   "name": "python",
   "nbconvert_exporter": "python",
   "pygments_lexer": "ipython3",
   "version": "3.12.4"
  }
 },
 "nbformat": 4,
 "nbformat_minor": 2
}