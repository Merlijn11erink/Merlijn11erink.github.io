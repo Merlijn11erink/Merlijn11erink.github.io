{
 "cells": [
  {
   "cell_type": "markdown",
   "metadata": {},
   "source": [
    "## Destillatie"
   ]
  },
  {
   "cell_type": "markdown",
   "metadata": {},
   "source": [
    "```{figure} images/figuur-5.gif\n",
    "---\n",
    "width: 657px\n",
    "name: destillatie\n",
    "---\n",
    "destillatie van ethanol in water\n",
    "```"
   ]
  },
  {
   "cell_type": "markdown",
   "metadata": {},
   "source": [
    "## Leerdoelen\n",
    "- Je kan benoemen op welk principe destillatie werkt\n",
    "- Je kan uitleggen wanneer destillatie geschikt is als scheidingsmethode\n",
    "- Je kan uitleggen hoe destillatie verloopt\n",
    "- Je kan benoemen welke factoren van invloed zijn op destillatie"
   ]
  },
  {
   "cell_type": "markdown",
   "metadata": {},
   "source": [
    "## Voorkennis\n",
    "In de onderbouw zal je geleerd hebben dat destillatie een scheidingsmethode is die berust op een verschil in kookpunt. Ook dat zuivere stoffen een kookpunt hebben en mengsels een kooktraject. In werkelijkheid is dit wat complexer, daar gaan we in deze paragraaf verder op in."
   ]
  },
  {
   "cell_type": "markdown",
   "metadata": {},
   "source": [
    "## Wat is koken?\n",
    "een zuivere stof of mengsel kookt wanneer de dampdruk gelijk is aan de omliggende druk. Op zeeniveau heerst atmosferische druk. Hoog in de bergen is de luchtdruk lager, hierdoor wordt de dampdruk sneller gelijk aan de omliggende druk en kookt dezelfde stof of mengsel bij een lagere temperatuur. \n",
    "\n",
    "Dampdruk is een stofeigenschap, de dampdruk van een stof neemt toe als de temperatuur toeneemt. "
   ]
  },
  {
   "cell_type": "markdown",
   "metadata": {},
   "source": [
    "```{figure} images/figuur-6.gif\n",
    "---\n",
    "width: 1597px\n",
    "name: destillatie\n",
    "---\n",
    "het koken van water\n",
    "```"
   ]
  },
  {
   "cell_type": "markdown",
   "metadata": {},
   "source": [
    "## Het proces van Destillatie\n"
   ]
  },
  {
   "cell_type": "markdown",
   "metadata": {},
   "source": [
    "## Praktijkvoorbeelden"
   ]
  },
  {
   "cell_type": "markdown",
   "metadata": {},
   "source": [
    "## Opgaven"
   ]
  },
  {
   "cell_type": "markdown",
   "metadata": {},
   "source": [
    "## Practica"
   ]
  }
 ],
 "metadata": {
  "kernelspec": {
   "display_name": "Python 3",
   "language": "python",
   "name": "python3"
  },
  "language_info": {
   "codemirror_mode": {
    "name": "ipython",
    "version": 3
   },
   "file_extension": ".py",
   "mimetype": "text/x-python",
   "name": "python",
   "nbconvert_exporter": "python",
   "pygments_lexer": "ipython3",
   "version": "3.12.6"
  }
 },
 "nbformat": 4,
 "nbformat_minor": 2
}
