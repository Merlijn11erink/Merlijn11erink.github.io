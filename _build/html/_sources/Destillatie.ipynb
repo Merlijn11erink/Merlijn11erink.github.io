{
 "cells": [
  {
   "cell_type": "markdown",
   "metadata": {},
   "source": [
    "# Destillatie"
   ]
  },
  {
   "cell_type": "markdown",
   "metadata": {},
   "source": [
    "```{figure} images/figuur-5.gif\n",
    "---\n",
    "width: 657px\n",
    "name: destillatie\n",
    "---\n",
    "destillatie van alcohol(ethanol) in water\n",
    "```"
   ]
  },
  {
   "cell_type": "markdown",
   "metadata": {},
   "source": [
    "## Leerdoelen\n",
    "- Je kan benoemen op welk principe destillatie werkt.\n",
    "- Je kan uitleggen wanneer destillatie geschikt is als scheidingsmethode.\n",
    "- Je kan uitleggen hoe destillatie verloopt.\n",
    "- Je kan benoemen welke factoren van invloed zijn op destillatie."
   ]
  },
  {
   "cell_type": "markdown",
   "metadata": {},
   "source": [
    "`````{admonition} Sterke alcoholische dranken\n",
    "```{figure} images/figuur-18.jpg\n",
    "---\n",
    "width: 657px\n",
    "name: moonshining\n",
    "---\n",
    "mensen die zelf sterke alcoholische drank brouwen\n",
    "```\n",
    "Destillatie wordt o.a. toegepast voor het maken van sterke drank. Sterke dranken hebben een alcoholpercentage van minstens 15%. De alcohol in alcoholische dranken wordt gevormd door gistcellen die het suiker vergisten tot alcohol. Rond de 15% alcohol beginnen de gistcellen te sterven, en stijgt het alcohol percentage niet meer. Om deze dranken een hoger alcoholpercentage te geven, worden ze gedestilleerd. Er blijft meer water achter dan alcohol, het destillaat bevat daardoor een hoger alcoholgehalte. \n",
    "`````"
   ]
  },
  {
   "cell_type": "markdown",
   "metadata": {},
   "source": [
    "## Voorkennis\n",
    "In de onderbouw zal je geleerd hebben dat destillatie een scheidingsmethode is die berust op een verschil in kookpunt. Ook dat zuivere stoffen een kookpunt hebben en mengsels een kooktraject. In werkelijkheid is dit wat complexer, daar gaan we in deze paragraaf verder op in."
   ]
  },
  {
   "cell_type": "markdown",
   "metadata": {},
   "source": [
    "## Wat is koken?\n",
    "een zuivere stof of mengsel kookt wanneer de dampdruk gelijk is aan de omliggende druk. Op zeeniveau heerst atmosferische druk. Hoog in de bergen is de luchtdruk lager, hierdoor wordt de dampdruk sneller gelijk aan de omliggende druk en kookt dezelfde stof of mengsel bij een lagere temperatuur. \n",
    "\n",
    "Dampdruk is een stofeigenschap, de dampdruk van een stof neemt toe als de temperatuur toeneemt. Het kookpunt is de temperatuur waarbij de dampdruk van een stof of mengsel  gelijk is aan de omliggende druk. \n",
    "\n",
    "Het kookpunt van een mengsel is afhankelijk van de dampdruk van de stoffen waaruit het mengsel bestaat. Door een verschil in dampdruk tussen de stoffen van een mengsels zal de damp uit een andere verhouding bestaan dan het vloeibaar mengsel. Hierdoor verandert de verhouding van het mengsel en verplaatst het kookpunt zich. Dit is waardoor een kooktraject ontstaat."
   ]
  },
  {
   "cell_type": "markdown",
   "metadata": {},
   "source": [
    "```{figure} images/figuur-7.jpeg\n",
    "---\n",
    "width: 1597px\n",
    "name: het koken van water\n",
    "---\n",
    "het koken van water\n",
    "```"
   ]
  },
  {
   "cell_type": "markdown",
   "metadata": {},
   "source": [
    "```{figure} images/figuur-6.GIF\n",
    "---\n",
    "width: 1597px\n",
    "name: het koken van water schematisch\n",
    "---\n",
    "het koken van water\n",
    "```"
   ]
  },
  {
   "cell_type": "markdown",
   "metadata": {},
   "source": [
    "## Principe van Destillatie\n",
    "Destillatie is een scheidingsmethode die berust op het verschil in dampdruk bij het koken van het mengsel. Tussen een opgelost \"vaste\" stof die geen dampdruk heeft en de vloeistof waarin die is opgelost die wel een dampdruk heeft, is de scheiding maximaal. \n",
    "\n",
    "Bij een vloeistof die opgelost is in een andere vloeistof, hebben beide een dampdruk. De verhouding tussen die dampdrukken bepaalt de verhouding van de stoffen in de damp en dus in je destillaat."
   ]
  },
  {
   "cell_type": "markdown",
   "metadata": {},
   "source": [
    "## Het proces van Destillatie\n",
    "\n",
    "### Standaard Destillatie\n",
    "De simpelste vorm van destillatie vindt plaats onder standaard druk. Het vloeibare mengsel wordt in een kolf tot koken gebracht. De stof met het laagste kookpunt en dus de grootste dampdruk zal het grootste deel van de damp vormen, maar als de andere stof een vloeistof zal deze ook deels meeverdampen. De damp wordt door een liebigkoeler geleid waar het condenseert en wordt verzameld in een andere kolf. Bij complexere mengsels kan je ook verschillende bestandelen opvangen in verschillende kolfen, dit noemen we gefractioneerde destillatie.\n",
    "\n",
    "Bij het koken van een mengsel van twee vloeistoffen, zal de verhouding in de kolf veranderen omdat de ene stof meer verdampt dan de andere. Daardoor verandert ook het kookpunt. Om de relatie tussen kookpunt en verhouding van de stoffen weer te geven, is de kooklus bedacht, zie afbeelding hieronder. \n",
    "\n",
    "```{figure} images/figuur-10.png\n",
    "---\n",
    "width: 1597px\n",
    "name: kooklus\n",
    "---\n",
    "kooklus\n",
    "```\n",
    "Om bij een standaard destillatie een pure stof te verkijgen, zullen we meerdere keren moeten destilleren. Als we beginnen met een mengsel van 50/50 stof A en B, en we brengen dit aan de kook, komen we bij punt a uit in de kooklus. De damp die dan vormt zal dan bestaan uit de verhouding bij punt b. De damp koelt af en het verkregen destillaat is dan punt c. Als we dit destillaat opnieuw aan de kook brengen, dan komt er een damp vrij met de verhouding van punt d, wanneer dit condenseert zijn we bij punt e aangekomen. \n",
    "\n",
    "Aangezien we niet op fracties uit zijn, zou het fijn zijn als al deze stappen tegelijkertijd zouden kunnen plaatsvinden. Dit noemen we **{term}`rectificeren`**, door middel van een **{term}`vigreux`** of op industriële schaal een rectificatiekolom kan dit worden bereikt. Door de inhammen in deze opstellingen is er veel contactoppervlak en koelt een deel van de damp af en condenseert. Door de vorm van de kolom loopt de condens naar beneden door nieuwe damp heen, hierdoor wordt het weer opgewarmt en als het ware opnieuw gedestilleerd wanneer het tot koken komt. Zo worden heel veel destillaties over de lengte van de kolom allemaal tegelijk uitgevoerd en komt er aan het eind van de opstelling een zuivere stof uitrollen.\n",
    "\n",
    "### Stoomdestillatie\n",
    "Er gelden 3 voorwaarden voor de te scheiden stof om goed te werken met deze vorm van destillatie:\n",
    "- De stof moet stabiel zijn in kokend water, dus niet ontleden of reacties ondergaan met de andere stoffen in het mengsel.\n",
    "- De stof moet relatief slecht oplosbaar zijn in kokend water.\n",
    "- De dampdruk van de stof in kokend water moet rond de 1kPa liggen, dat is 1/100 van atmosferische druk.\n",
    "als twee of meer stoffen van een mengsel hieraan voldoen, zijn ze met deze methode slecht van elkaar te scheiden.\n",
    "\n",
    "Bij stoomdestillatie wordt aan een mengsel, vaak van organische stoffen, water toegevoegd. Kaneelaldehyde komt voor in de bast van de kaneelboom en is de stof verantwoordelijk voor de smaak van kaneel. Deze stof valt goed van de bast te scheiden door stoomdestillatie. Kaneelaldehyde lost slecht op in water, maar wel goed op in stoom, wanneer het water kookt, wordt het meegenomen in de stoom. Wanneer de damp condenseert zal er een twee lagen systeem vormen omdat het water en de kaneelaldehyde slecht in elkaar oplossen. \n",
    "\n",
    "### Destillatie onder verminderde druk\n",
    "Destillatie onder verminderde druk kan energie besparen doordat het kookpunt van het mengsel lager komt te liggen. De omliggende druk is lager, dus dampdruk voor koken ligt ook lager. De grootste voordelen van destillatie onder verminderde druk komt echter niet van de energiebesparing door de lagere temperatuur. Door de lagere temperatuur kunnen stoffen die niet stabiel zijn bij hogere temperaturen, omdat ze ontleden of reacties aangaan met andere stoffen in het mengsel, toch gescheiden worden.\n",
    "\n",
    "### Azeotropische destillatie\n",
    "een azeotroop is een specifiek mengsel van twee vloeistoffen die op een bepaalde temperatuur een damp produceert dat dezelfde verhouding heeft als dat mengsel. Dit betekent dat je geen mengsel puurder dan dit punt kan bereiken. We maken onderscheid tussen een minimum azeotroop waarbij het kookpunt minimaal is, en een maximum azeotroop waarbij dit verschijnsel optreed bij een maximale temperatuur in de kooklus.\n",
    "\n",
    "```{figure} images/figuur-11.gif\n",
    "---\n",
    "width: 1597px\n",
    "name: kooklus minimum azeotroop\n",
    "---\n",
    "kooklus van een minimum azeotroop\n",
    "```\n",
    "\n",
    "```{figure} images/figuur-12.gif\n",
    "---\n",
    "width: 1597px\n",
    "name: kooklus maximum azeotroop\n",
    "---\n",
    "kooklus van een maximum azeotroop\n",
    "```\n",
    "\n",
    "### Gefractioneerde destillatie\n",
    "```{figure} images/figuur-13.jpg\n",
    "---\n",
    "width: 1597px\n",
    "name: destillatiekolom\n",
    "---\n",
    "Destillatiekolom bij aardolie\n",
    "```\n",
    "Bij het destilleren van aardolie wordt een kolom gebruikt met schotels, ieder \"bakje\" is een schotel. Op iedere schotel heerst een evenwicht tussen vloeistof op de schotel en de damp erboven. Het totaal aantal schotels noemen we het **{term}`schotelgetal`**. \n",
    "\n",
    "De destillatiekolommen in laboratoria hebben geen echte schotels, denk bijvoorbeeld aan een **{term}`vigreux`**. We kunnen echter wel theoretische schotels toekennen aan een destillatiekolom. Om dit te doen moet je een bepaald mengsel gebruiken als standaard. Als je dit mengsel destilleert met de kolom en dan de samenstelling van het destillaat bepaald, kan je dit vergelijken met de samenstelling die komt uit een kolom met echte schotels. Door aan een kolom een schotelgetal toe te kennen, zeg je dat deze kolom net zo goed destilleert als een kolom die daadwerkelijk dat aantal schotels heeft."
   ]
  },
  {
   "cell_type": "markdown",
   "metadata": {},
   "source": [
    "## Opgaven"
   ]
  },
  {
   "cell_type": "markdown",
   "metadata": {},
   "source": [
    "- Maak steeds één opgave.\n",
    "- Schrijf het antwoord in je schrift. \n",
    "- Kijk dan na door op antwoord te klikken.\n",
    "- Verbeter zo nodig.\n",
    "- Ga dan pas door met de volgende opgave."
   ]
  },
  {
   "cell_type": "markdown",
   "metadata": {},
   "source": [
    "``````{admonition} Kennisopgaven\n",
    ":class: note, dropdown\n",
    "`````{tab-set}\n",
    "````{tab-item} K1\n",
    "Welk verschil in stofeigenschappen wordt gebruikt voor Destillatie?\n",
    "```{dropdown} antwoord\n",
    "Voor destillatie wordt het verschil in dampdruk tussen stoffen gebruikt.\n",
    "```\n",
    "````\n",
    "\n",
    "````{tab-item} K2\n",
    "Wanneer verloopt de scheiding bij destillatie het beste?\n",
    "```{dropdown} antwoord\n",
    "De scheiding bij destillatie verloopt het beste als de dampdruk van de ene stof veel groter is dan de dampdruk van de andere stof. \n",
    "```\n",
    "````\n",
    "`````\n",
    "``````"
   ]
  },
  {
   "cell_type": "markdown",
   "metadata": {},
   "source": [
    "``````{admonition} Toepassingsopgaven\n",
    ":class: note, dropdown\n",
    "```{figure} images/figuur-16a.jpeg\n",
    "---\n",
    "width: 657px\n",
    "name: kooklus van 2-propanol en 2-methyl-1-propanol\n",
    "---\n",
    "kooklus van 2-propanol en 2-methyl-1-propanol\n",
    "```\n",
    "`````{tab-set}\n",
    "````{tab-item} T1\n",
    "\n",
    "Bepaal de molfracties van de damp en vloeistof wanneer deze in evenwicht zijn bij een temperatuur van 100°C.\n",
    "\n",
    "```{dropdown} antwoord\n",
    "0,38±2 2-propanol\n",
    "\n",
    "0,17±2 2-methyl-1-propanol\n",
    "\n",
    "\n",
    "```\n",
    "````\n",
    "\n",
    "````{tab-item} T2\n",
    "Bepaal:\n",
    "- bij welke temperatuur een mengsel van 2-propanol met molfractie 0,80 kookt, \n",
    "- wat de samenstelling van de damp is, \n",
    "- bij welke temperatuur deze damp condenseert\n",
    "- en wat de samenstelling is van de gecondenseerde vloeistof.\n",
    "\n",
    "```{dropdown} antwoord\n",
    "- Een mengsel van 2-propanol met molfractie 0,80 kookt bij 84°C, dit is het punt van de molfractie op de vloeistoflijn.\n",
    "- De samenstelling van de damp is gelijk aan de damplijn bij dezelfde temperatuur, in dit geval is dat 0,95.\n",
    "- Als je dit punt naar beneden trekt naar de vloeistoflijn, vindt je de temperatuur waarbij de damp condenseert, in dit geval is dat ~82°C.\n",
    "\n",
    "\n",
    "```\n",
    "````\n",
    "`````\n",
    "``````"
   ]
  },
  {
   "cell_type": "markdown",
   "metadata": {},
   "source": [
    "``````{admonition} Inzichtsopgaven\n",
    ":class: note, dropdown\n",
    "`````{tab-set}\n",
    "````{tab-item} I1\n",
    "Leg uit wat de rol is van dampdruk bij destillatie.\n",
    "\n",
    "```{dropdown} antwoord\n",
    "de verhouding tussen de dampdruk van twee stoffen bij het kookpunt van het mengsel bepaald de verhouding van het destillaat.\n",
    "\n",
    "```\n",
    "````\n",
    "\n",
    "````{tab-item} I2\n",
    "Leg uit waarom destillatie niet geschikt is bij een azeotroop.\n",
    "\n",
    "```{dropdown} antwoord\n",
    "Een azeotroop heeft een bepaalde temperatuur en samenstelling waarbij de verhouding tussen de dampdruk van de twee stoffen hetzelfde is als de samenstelling van het mengsel, daardoor produceert het een damp die dezelfde verhouding heeft als het mengsel al had. Hierdoor wordt het destillaat niet zuiverder en kan ook niet zuiverder worden door destillatie\n",
    "\n",
    "```\n",
    "````\n",
    "`````\n",
    "``````"
   ]
  },
  {
   "cell_type": "markdown",
   "metadata": {},
   "source": [
    "## Practica"
   ]
  },
  {
   "cell_type": "markdown",
   "metadata": {},
   "source": [
    "```{admonition} Stoomdestillatie van sinaasappelschillen\n",
    ":class: dropdown\n",
    "Benodigdheden:\n",
    "- 500 ml rondbodemkolf\n",
    "- Kookplaat\n",
    "- 2 adapters (bijvoorbeeld een driegangenadapter en een vacuümadapter)\n",
    "- Condensor\n",
    "- Erlenmeyer\n",
    "- Twee slangen voor waterin- en uitstroom\n",
    "- Thermometer\n",
    "- Scheidingstrechter\n",
    "- Sinaasappelschillen (ca. 250-500 g afhankelijk van kolfgrootte)\n",
    "- Gedistilleerd water\n",
    "\n",
    "**Stap 1: Voorbereiding van de sinaasappelschillen** \n",
    "\n",
    "Verzamel ongeveer 250-500 gram sinaasappelschillen. Het beste resultaat krijg je door de schillen te raspen of kleinere stukjes te maken van het schil, wat het oppervlak vergroot en de olie beter vrijkomt tijdens het destillatieproces.\n",
    "\n",
    "**Stap 2: Plaats de sinaasappelschillen in de rondbodemkolf**\n",
    "\n",
    "Doe de geraspte sinaasappelschillen in de 500 ml rondbodemkolf en voeg voldoende gedistilleerd water toe zodat de schillen net onder water staan. Dit is belangrijk om te voorkomen dat de schillen tijdens het destillatieproces verbranden.\n",
    "\n",
    "**Stap 3: Bevestig de driegangenadapter**\n",
    "\n",
    "Plaats de driegangenadapter op de hals van de rondbodemkolf. Hier komt de thermometer doorheen zodat je de temperatuur tijdens het proces kunt controleren. De thermometer moet ervoor zorgen dat de temperatuur tijdens het destilleren rond de 100°C blijft, net onder het kookpunt van watet.\n",
    "\n",
    "**Stap 4: Sluit de condensor aan**\n",
    "\n",
    "Bevestig de condensor aan de andere kant van de driegangenadapter. De condensor moet horizontaal worden geplaatst, zodat het gas dat uit de kolf komt, kan condenseren tot vloeistof. Verbind vervolgens de twee slangen: één slang voor het inlaten van koud water aande onderkant van de condensor, en één voor het afvoeren van warm water aan de bovenkant.\n",
    "\n",
    "**Stap 5: adapter en opvangkolf**\n",
    "\n",
    "Plaats de adapter aan het uiteinde van de condensor, en bevestig een erlenmeyer (opvangkolf) aan de onderkant van de adapter. Deze opvangkolf vangt de gedestilleerde vloeistof op, die uit water en essentiële olie bestaat.\n",
    "\n",
    "**Stap 6: Verwarmen**\n",
    "\n",
    "Zet de rondbodemkolf op de kookplaat en breng het water in de kolf aan de kook. De stoom zal de sinaasappelschillen verwarmen, waardoor de essentiële olie vrijkomt. De stoom, beladen met etherische olie, stroomt naar de condensor waar het wordt gekoeld en condenseert tot een vloeistof.\n",
    "\n",
    "**Stap 7: Olie- en wateroplossing verzamelen**\n",
    "\n",
    "De gecondenseerde vloeistof, bestaande uit een mengsel van water en essentiële olie, wordt verzameld in de erlenmeyer. Deze vloeistof bestaat uit een tweefasensysteem: de lichte sinaasappelolie zal op het water drijven.\n",
    "\n",
    "**Stap 8: Scheiding van de olie met scheidingstrechter**\n",
    "\n",
    "Na afloop van de destillatie giet je de inhoud van de erlenmeyer in een scheidingstrechter. Laat de olie en het water zich scheiden; de olie zal zich aan de bovenkant verzamelen. Door de onderste kraan van de scheidingstrechter open te draaien, laat je het water wegvloeien en kun je de pure sinaasappelolie aan de bovenkant verzamelen\n",
    "```"
   ]
  },
  {
   "cell_type": "markdown",
   "metadata": {},
   "source": [
    "## Samenvatting\n",
    "| soort destillatie | wanneer geschikt | \n",
    "|---|---|\n",
    "| standaard destillatie | Als onder atmosferische druk het verschil in dampdruk al groot genoeg is om de stoffen tot een gewenst niveau te scheiden. Bij het kookpunt van het mengsel treden ook geen ongewenste ontledingen en andere reacties op. |\n",
    "| stoomdestillatie | <ul><li> De stof moet stabiel zijn in kokend water, dus niet ontleden of reacties ondergaan met de andere stoffen in het mengsel. </li><li> De stof moet relatief slecht oplosbaar zijn in kokend water. </li><li> De dampdruk van de stof in kokend water moet rond 1/100 van atmosferische druk liggen. </li><li> Geen andere stof in het mengsel mag aan deze voorwaarden voldoen. </li></ul> | \n",
    "| destillatie onder verminderde druk | Bij het kookpunt van het mengsel onder atmosferische druk treden ongewenste ontledingen en/of andere reacties op. Door de verminderde druk, daalt het kookpunt, en voorkom je deze reacties. |\n",
    "\n",
    "- Een kooklus is een diagram die de molfracties van twee stoffen weergeeft bij vloeistof en damp onder verschillende temperaturen. Bij destillatie doorloop je het diagram door:\n",
    "    - bij de molfracties van het mengsel recht omhoog te gaan tot je de vloeistof lijn raakt, dit is het kookpunt van het mengsel.\n",
    "    - dan zoek je horizontaal, dus bij dezelfde temperatuur, naar de damplijn, dit geeft je de molfracties van de damp.\n",
    "    - vanaf dat punt ga je recht naar beneden naar de vloeistoflijn, daar vindt je het condensatiepunt van de damp.\n",
    "\n",
    "- Azeotropen zijn mengsels van specifieke molfracties tussen twee stoffen die bij een bepaa;de temperatuur een damp produceren met dezelfde samenstelling als de vloeistof. Dit komt doordat de verhouding tussen de dampdruk van die twee stoffen bij die temperatuur gelijk is aan de verhouding tussen die twee stoffen.\n",
    "\n"
   ]
  }
 ],
 "metadata": {
  "kernelspec": {
   "display_name": "Python 3",
   "language": "python",
   "name": "python3"
  },
  "language_info": {
   "codemirror_mode": {
    "name": "ipython",
    "version": 3
   },
   "file_extension": ".py",
   "mimetype": "text/x-python",
   "name": "python",
   "nbconvert_exporter": "python",
   "pygments_lexer": "ipython3",
   "version": "3.12.6"
  }
 },
 "nbformat": 4,
 "nbformat_minor": 2
}
