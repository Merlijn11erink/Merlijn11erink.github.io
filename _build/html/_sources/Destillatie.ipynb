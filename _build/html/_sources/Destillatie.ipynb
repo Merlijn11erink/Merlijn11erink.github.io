{
 "cells": [
  {
   "cell_type": "markdown",
   "metadata": {},
   "source": [
    "## Destillatie"
   ]
  },
  {
   "cell_type": "markdown",
   "metadata": {},
   "source": [
    "```{figure} images/figuur-5.gif\n",
    "---\n",
    "width: 657px\n",
    "name: destillatie\n",
    "---\n",
    "destillatie van ethanol in water\n",
    "```"
   ]
  },
  {
   "cell_type": "markdown",
   "metadata": {},
   "source": [
    "## Leerdoelen\n",
    "- Je kan benoemen op welk principe destillatie werkt\n",
    "- Je kan uitleggen wanneer destillatie geschikt is als scheidingsmethode\n",
    "- Je kan uitleggen hoe destillatie verloopt\n",
    "- Je kan benoemen welke factoren van invloed zijn op destillatie"
   ]
  },
  {
   "cell_type": "markdown",
   "metadata": {},
   "source": [
    "## Voorkennis\n",
    "In de onderbouw zal je geleerd hebben dat destillatie een scheidingsmethode is die berust op een verschil in kookpunt. Ook dat zuivere stoffen een kookpunt hebben en mengsels een kooktraject. In werkelijkheid is dit wat complexer, daar gaan we in deze paragraaf verder op in."
   ]
  },
  {
   "cell_type": "markdown",
   "metadata": {},
   "source": [
    "## Wat is koken?\n",
    "een zuivere stof of mengsel kookt wanneer de dampdruk gelijk is aan de omliggende druk. Op zeeniveau heerst atmosferische druk. Hoog in de bergen is de luchtdruk lager, hierdoor wordt de dampdruk sneller gelijk aan de omliggende druk en kookt dezelfde stof of mengsel bij een lagere temperatuur. \n",
    "\n",
    "Dampdruk is een stofeigenschap, de dampdruk van een stof neemt toe als de temperatuur toeneemt. Het kookpunt is de temperatuur waarbij de dampdruk van een stof of mengsel  gelijk is aan de omliggende druk. \n",
    "\n",
    "Het kookpunt van een mengsel is afhankelijk van de dampdruk van de stoffen waaruit het mengsel bestaat. Door een verschil in dampdruk tussen de stoffen van een mengsels zal de damp uit een andere verhouding bestaan dan het vloeibaar mengsel. Hierdoor verandert de verhouding van het mengsel en verplaatst het kookpunt zich. Dit is waardoor een kooktraject ontstaat."
   ]
  },
  {
   "cell_type": "markdown",
   "metadata": {},
   "source": [
    "```{figure} images/figuur-7.jpeg\n",
    "---\n",
    "width: 1597px\n",
    "name: het koken van water\n",
    "---\n",
    "het koken van water\n",
    "```"
   ]
  },
  {
   "cell_type": "markdown",
   "metadata": {},
   "source": [
    "```{figure} images/figuur-6.GIF\n",
    "---\n",
    "width: 1597px\n",
    "name: het koken van water\n",
    "---\n",
    "het koken van water\n",
    "```"
   ]
  },
  {
   "cell_type": "markdown",
   "metadata": {},
   "source": [
    "## Principe van Destillatie\n",
    "Destillatie is een scheidingsmethode die berust op het verschil in dampdruk bij het koken van het mengsel. Tussen een opgelost \"vaste\" stof die geen dampdruk heeft en de vloeistof waarin die is opgelost die wel een dampdruk heeft, is de scheiding maximaal. \n",
    "\n",
    "Bij een vloeistof die opgelost is in een andere vloeistof, hebben beide een dampdruk. De verhouding tussen die dampdrukken bepaalt de verhouding van de stoffen in de damp en dus in je destillaat."
   ]
  },
  {
   "cell_type": "markdown",
   "metadata": {},
   "source": [
    "## Het proces van Destillatie\n",
    "\n",
    "### Standaard Destillatie\n",
    "De simpelste vorm van destillatie vindt plaats onder standaard druk. Het vloeibare mengsel wordt in een kolf tot koken gebracht. De stof met het laagste kookpunt en dus de grootste dampdruk zal het grootste deel van de damp vormen. De damp wordt door een liebigkoeler geleid waar het condenseert en wordt verzameld in een andere kolf. Bij complexere mengsels kan je ook verschillende bestandelen opvangen in verschillende kolfen, dit noemen we gefractioneerde destillatie.\n",
    "```{figure} images/figuur-10.jpg\n",
    "---\n",
    "width: 1597px\n",
    "name: kooklus\n",
    "---\n",
    "kooklus\n",
    "```\n",
    "\n",
    "### Stoomdestillatie\n",
    "Er gelden 3 voorwaarden voor de te scheiden stof om goed te werken met deze vorm van destillatie:\n",
    "- De stof moet stabiel zijn in kokend water, dus niet ontleden of reacties ondergaan met de andere stoffen in het mengsel.\n",
    "- De stof moet relatief slecht oplosbaar zijn in kokend water.\n",
    "- De dampdruk van de stof in kokend water moet rond de 1kPa liggen, dat is 1/100 van atmosferische druk.\n",
    "als twee of meer stoffen van een mengsel hieraan voldoen, zijn ze met deze methode slecht van elkaar te scheiden.\n",
    "\n",
    "Bij stoomdestillatie wordt aan een mengsel, vaak van organische stoffen, water toegevoegd. Kaneelaldehyde komt voor in de bast van de kaneelboom en is de stof verantwoordelijk voor de smaak van kaneel. Deze stof valt goed van de bast te scheiden door stoomdestillatie. Kaneelaldehyde lost slecht op in water, maar wel goed op in stoom, wanneer het water kookt, wordt het meegenomen in de stoom. Wanneer de damp condenseert zal er een twee lagen systeem vormen omdat het water en de kaneelaldehyde slecht in elkaar oplossen. \n",
    "\n",
    "### Destillatie onder verminderde druk\n",
    "Destillatie onder verminderde druk kan energie besparen doordat het kookpunt van het mengsel lager komt te liggen. De omliggende druk is lager, dus dampdruk voor koken ligt ook lager. De grootste voordelen van destillatie onder verminderde druk komt echter niet van de energiebesparing door de lagere temperatuur. Door de lagere temperatuur kunnen stoffen die niet stabiel zijn bij hogere temperaturen, omdat ze ontleden of reacties aangaan met andere stoffen in het mengsel, toch gescheiden worden.\n",
    "\n",
    "### Azeotropische destillatie\n",
    "een azeotroop is een specifiek mengsel van twee vloeistoffen die op een bepaalde temperatuur een damp produceert dat dezelfde verhouding heeft als dat mengsel. Dit betekent dat je geen mengsel puurder dan dit punt kan bereiken. We maken onderscheid tussen een minimum azeotroop waarbij het kookpunt minimaal is, en een maximum azeotroop waarbij dit verschijnsel optreed bij een maximale temperatuur in de kooklus.\n",
    "\n",
    "```{figure} images/figuur-11.gif\n",
    "---\n",
    "width: 1597px\n",
    "name: kooklus minimum azeotroop\n",
    "---\n",
    "kooklus van een minimum azeotroop\n",
    "```\n",
    "\n",
    "```{figure} images/figuur-12.gif\n",
    "---\n",
    "width: 1597px\n",
    "name: kooklus maximum azeotroop\n",
    "---\n",
    "kooklus van een maximum azeotroop\n",
    "```"
   ]
  },
  {
   "cell_type": "markdown",
   "metadata": {},
   "source": [
    "## Praktijkvoorbeelden"
   ]
  },
  {
   "cell_type": "markdown",
   "metadata": {},
   "source": [
    "## Opgaven"
   ]
  },
  {
   "cell_type": "markdown",
   "metadata": {},
   "source": [
    "## Practica"
   ]
  }
 ],
 "metadata": {
  "kernelspec": {
   "display_name": "Python 3",
   "language": "python",
   "name": "python3"
  },
  "language_info": {
   "codemirror_mode": {
    "name": "ipython",
    "version": 3
   },
   "file_extension": ".py",
   "mimetype": "text/x-python",
   "name": "python",
   "nbconvert_exporter": "python",
   "pygments_lexer": "ipython3",
   "version": "3.12.6"
  }
 },
 "nbformat": 4,
 "nbformat_minor": 2
}
