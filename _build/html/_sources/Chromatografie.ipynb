{
 "cells": [
  {
   "cell_type": "markdown",
   "metadata": {},
   "source": [
    "# Chromatografie"
   ]
  },
  {
   "cell_type": "markdown",
   "metadata": {},
   "source": [
    "```{figure} images/figuur-4.gif\n",
    "---\n",
    "width: 657px\n",
    "name: papierchromatografie\n",
    "---\n",
    "papierchromatografie\n",
    "```"
   ]
  },
  {
   "cell_type": "markdown",
   "metadata": {},
   "source": [
    "## Leerdoelen"
   ]
  },
  {
   "cell_type": "markdown",
   "metadata": {},
   "source": [
    "## Voorkennis"
   ]
  },
  {
   "cell_type": "markdown",
   "metadata": {},
   "source": [
    "## Soorten Chromatografie\n",
    "1. Papierchromatografie\n",
    "2. Dunne Laag Chromatografie\n",
    "3. Kolomchromatografie\n",
    "4. Gaschromatografie"
   ]
  },
  {
   "cell_type": "markdown",
   "metadata": {},
   "source": [
    "## Principe van Chromatografie\n",
    "Chromatografie is een scheidingsmethode die berust op het verschil in aanhechtingsvermogen van een stof aan de mobiele fase en aan de stationaire fase ten opzichte van een andere stof. \n",
    "\n",
    "Je zou dit kunnen vergelijken met een winkelstraat met een loopband, een horizontale roltrap. Stel je zet een groep stereotypische mannen en vrouwen op de loopband, en de winkels in deze straat verkopen vooral make-up, kleding en knipbeurten, dan zullen de vrouwen meer aangetrokken zijn om de winkels in te gaan dan de mannen. Als de winkels vooral elektronica en gereedschap verkopen dan zullen de mannen meer aangetrokken zijn om de winkels in te gaan. Hierdoor ontstaat er een scheiding over tijd.\n",
    "\n",
    "In bovenstaand voorbeeld is de loopband de mobiele fase en de winkels de stationaire fase. "
   ]
  },
  {
   "cell_type": "markdown",
   "metadata": {},
   "source": [
    "## Het proces van Chromatografie\n",
    "| soort chromatografie | stationaire fase | mobiele fase | \n",
    "|---|---|---|\n",
    "| papierchromatografie | papier | vloeistof |\n",
    "| Dunne Laag Chromatografie | een dunne laag van bv cellulose of silicagel | vloeistof |\n",
    "| Kolomchromatografie | suspensie van een vaste stof in de loopvloeistof | vloeistof|\n",
    "| gaschromatografie | vaste stof of vloeistof vast op een drager | gas |"
   ]
  },
  {
   "cell_type": "markdown",
   "metadata": {},
   "source": [
    "## Praktijkvoorbeelden"
   ]
  },
  {
   "cell_type": "markdown",
   "metadata": {},
   "source": [
    "## Opgaven"
   ]
  },
  {
   "cell_type": "markdown",
   "metadata": {},
   "source": [
    "## Practica"
   ]
  }
 ],
 "metadata": {
  "kernelspec": {
   "display_name": "Python 3",
   "language": "python",
   "name": "python3"
  },
  "language_info": {
   "codemirror_mode": {
    "name": "ipython",
    "version": 3
   },
   "file_extension": ".py",
   "mimetype": "text/x-python",
   "name": "python",
   "nbconvert_exporter": "python",
   "pygments_lexer": "ipython3",
   "version": "3.12.6"
  }
 },
 "nbformat": 4,
 "nbformat_minor": 2
}
