{
 "cells": [
  {
   "cell_type": "markdown",
   "metadata": {},
   "source": [
    "# Chromatografie"
   ]
  },
  {
   "cell_type": "markdown",
   "metadata": {},
   "source": [
    "```{figure} images/figuur-4.gif\n",
    "---\n",
    "width: 657px\n",
    "name: papierchromatografie\n",
    "---\n",
    "papierchromatografie\n",
    "```"
   ]
  },
  {
   "cell_type": "markdown",
   "metadata": {},
   "source": [
    "## Leerdoelen"
   ]
  },
  {
   "cell_type": "markdown",
   "metadata": {},
   "source": [
    "## Voorkennis"
   ]
  },
  {
   "cell_type": "markdown",
   "metadata": {},
   "source": [
    "## Soorten Chromatografie\n",
    "1. Papierchromatografie\n",
    "2. Dunne Laag Chromatografie\n",
    "3. Kolomchromatografie\n",
    "4. Gaschromatografie"
   ]
  },
  {
   "cell_type": "markdown",
   "metadata": {},
   "source": [
    "## Principe van Chromatografie\n",
    "Chromatografie is een scheidingsmethode die berust op het verschil in aanhechtingsvermogen van een stof aan de mobiele fase en aan de stationaire fase ten opzichte van een andere stof.\n",
    "\n",
    "Je zou dit kunnen vergelijken met een winkelstraat met een loopband, een horizontale roltrap. Stel je zet een groep stereotypische mannen en vrouwen op de loopband, en de winkels in deze straat verkopen vooral make-up, kleding en knipbeurten, dan zullen de vrouwen meer aangetrokken zijn om de winkels in te gaan dan de mannen. Als de winkels vooral elektronica en gereedschap verkopen dan zullen de mannen meer aangetrokken zijn om de winkels in te gaan. Hierdoor ontstaat er een scheiding over tijd.\n",
    "\n",
    "In bovenstaand voorbeeld is de loopband de mobiele fase en de winkels de stationaire fase. Hoe lang de mannen en vrouwen erover doen om naar het eind van de loopband te komen noemen we de retentietijd."
   ]
  },
  {
   "cell_type": "markdown",
   "metadata": {},
   "source": [
    "## Het proces van Chromatografie\n",
    "| soort chromatografie | stationaire fase | mobiele fase | \n",
    "|---|---|---|\n",
    "| Papierchromatografie | papier | vloeistof |\n",
    "| Dunne Laag Chromatografie | een dunne laag van bv cellulose of silicagel | vloeistof |\n",
    "| Kolomchromatografie | suspensie van een vaste stof in de loopvloeistof | vloeistof|\n",
    "| Gaschromatografie | vaste stof of vloeistof vast op een drager | gas |\n",
    "\n",
    "### Dunne laag en papierchromatografie\n",
    "bij dunne laag en papiechromatografie is er geen retentietijd, de stoffen stoppen op een bepaald punt tussen hun startpositie en het vloeistoffront. Daarom gebruiken bij deze twee typen chromatografie de retardatiefactor.\n",
    "\n",
    "$\n",
    "R_f=\\frac{loopafstand\\,\\,stof}{loopafstand\\,\\,vloeistoffront}\n",
    "$\n",
    "\n",
    "Iedere stof heeft een unieke R<sub>f</sub> waarde bij een bepaalde loopvloeistof. Als je deze waarde bij een practicum bepaalt hebt, kun je bepalen welke stof er in het mengsel zat.\n",
    "### Kolomchromatografie\n",
    "Voor kolomchromatografie wordt een kolom gepakt met de gewenste stationaire fase. Er zijn verschillende manieren voor het pakken van de kolom, maar het gewenste resultaat moet een kolom zijn die alleen gevuld is met de loopvloeistof en de gekozen stationaire fase. Er moeten zo min mogelijk luchtbellen in de kolom zitten en het liefst ook een gelijke verdeling van de stationaire fase. \n",
    "\n",
    "Bij kolomchromatografie noemen we de loopvloeistof ook wel de eleuns. Elutie is namelijk een specifieke techniek die hierbij gebruikt kan worden. Elutie is het doorlaten lopen van een monsteroplossing door de kolom terwijl er steeds nieuw eluens wordt bijgevoegd. De delen van de monsteroplossing raken van elkaar gescheiden door het verschil in aanhechting aan de mobiele en stationaire fase. Stoffen die het meest aan de mobiele fase hechten en het minst aan de stationaire fase zullen het eerst uit de kolom komen. In tegenstelling tot Dunne laag en papierchromatografie kunnen we bij kolomchromatografie deze verschillende delen opvangen en verder onderzoeken.\n",
    "### Gaschromatografie\n",
    "```{figure} images/figuur-8.png\n",
    "---\n",
    "width: 657px\n",
    "name: gaschromatograaf\n",
    "---\n",
    "gaschromatograaf: machine voor gaschromatografie\n",
    "```\n",
    "Deze scheidingsmethode is met name geschikt voor het scheiden van organische stoffen die makkelijk verdampen. In een gaschromatograaf wordt een monster ingebracht bij een verwarmingselement die het monster doet verdampen zodat die meegenomen kan worden door de gasstroom in de kolom. Met gaschromatografie kan je goed een kwantitatieve analyse uitvoeren, zo wordt het octaangehalte in benzine met deze scheindingsmethode bepaalt."
   ]
  },
  {
   "cell_type": "markdown",
   "metadata": {},
   "source": [
    "## Rekenen met virtuele schotels\n",
    "```{figure} images/figuur-9.jpg\n",
    "---\n",
    "width: 657px\n",
    "name: kolom scheiding\n",
    "---\n",
    "schaal voor een goede scheiding bij chromatografie\n",
    "```\n",
    "De scheiding bij chromatografie lukt het beste als de verschillende bestandsdelen zo ver mogelijk uit elkaar zitten en zo dicht mogelijk in zichzelf gepakt zitten. Om deze verdeling tussen vertschillende opstellingen te kunnen vergelijken beschouwen we een denkbeeldig of virtuele schotel die een bepaalde hoogte moet hebben om een bestanddeel te bevatten. Dit is de H in de Van Deemter vergelijking:\n",
    "\n",
    "$\n",
    "H=Au^{1/3}+\\frac{B}{u}+Cu\n",
    "$\n",
    "\n",
    "- H: de hoogte van de virtuele schotel\n",
    "- u: de snelheid van de mobiele fase\n",
    "- A: het gevolg van diffusie doordat moleculen een willekeurig pad nemen.\n",
    "- B: het gevolg van diffusie door concentratieverschil\n",
    "- C: het gevolg van een sterk aanhechtingsvermogen aan de stationaire fase waardoor delen van een stof vertraagd zijn.\n"
   ]
  },
  {
   "cell_type": "markdown",
   "metadata": {},
   "source": [
    "## Praktijkvoorbeelden"
   ]
  },
  {
   "cell_type": "markdown",
   "metadata": {},
   "source": [
    "## Opgaven"
   ]
  },
  {
   "cell_type": "markdown",
   "metadata": {},
   "source": [
    "## Practica"
   ]
  }
 ],
 "metadata": {
  "kernelspec": {
   "display_name": "Python 3",
   "language": "python",
   "name": "python3"
  },
  "language_info": {
   "codemirror_mode": {
    "name": "ipython",
    "version": 3
   },
   "file_extension": ".py",
   "mimetype": "text/x-python",
   "name": "python",
   "nbconvert_exporter": "python",
   "pygments_lexer": "ipython3",
   "version": "3.12.6"
  }
 },
 "nbformat": 4,
 "nbformat_minor": 2
}
