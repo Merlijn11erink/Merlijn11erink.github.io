{
 "cells": [
  {
   "cell_type": "markdown",
   "metadata": {},
   "source": [
    "# Verantwoording"
   ]
  },
  {
   "cell_type": "markdown",
   "metadata": {},
   "source": [
    "dit is een interne gids, nadat alle paragrafen definitief zijn gemaakt worden de verwijzingen kloppend gemaakt met die onder de afbeeldingen"
   ]
  },
  {
   "cell_type": "markdown",
   "metadata": {},
   "source": [
    "figuur 1: https://imgur.com/gallery/recrystallization-of-acetanilide-by-nile-red-9YVpz"
   ]
  },
  {
   "cell_type": "markdown",
   "metadata": {},
   "source": [
    "figuur 2: zelfgemaakt op basis van figuur 14.11 uit Chemistry a molecular approach van Nivaldo Tro"
   ]
  },
  {
   "cell_type": "markdown",
   "metadata": {},
   "source": [
    "figuur 3: https://s3.amazonaws.com/images.icliniq.com/article/Blog/green+tea/gif1.gif"
   ]
  },
  {
   "cell_type": "markdown",
   "metadata": {},
   "source": [
    "figuur 4: https://i.makeagif.com/media/5-25-2015/yaXl0Q.gif"
   ]
  },
  {
   "cell_type": "markdown",
   "metadata": {},
   "source": [
    "figuur 5: https://aimhigh.space/water/distillation-and-chromatography/"
   ]
  },
  {
   "cell_type": "markdown",
   "metadata": {},
   "source": [
    "figuur 6: zelfgemaakt"
   ]
  },
  {
   "cell_type": "markdown",
   "metadata": {},
   "source": [
    "figuur 7: https://www.aquasana.com/dw/image/v2/BDTV_PRD/on/demandware.static/-/Sites-aquasana-Library/default/dwdf6248f7/images/blog/2021/09/iStock-152537775.jpg?sw=1920&sfrm=jpg"
   ]
  },
  {
   "cell_type": "markdown",
   "metadata": {},
   "source": [
    "figuur 8: https://www.mlochemie.nl/images/chemischeanalyse/h11-h21/GCschema.png"
   ]
  },
  {
   "cell_type": "markdown",
   "metadata": {},
   "source": [
    "figuur 9: https://chem.libretexts.org/Bookshelves/Analytical_Chemistry/Supplemental_Modules_(Analytical_Chemistry)/Instrumentation_and_Analysis/Chromatography/Chromatography"
   ]
  },
  {
   "cell_type": "markdown",
   "metadata": {},
   "source": [
    "figuur 10: https://chem.libretexts.org/Bookshelves/Organic_Chemistry/Organic_Chemistry_Lab_Techniques_(Nichols)/05%3A_Distillation/5.03%3A_Fractional_Distillation/5.3A%3A_Theory_of_Fractional_Distillation"
   ]
  },
  {
   "cell_type": "markdown",
   "metadata": {},
   "source": [
    "figuur 11 & 12: https://chem.libretexts.org/Bookshelves/Physical_and_Theoretical_Chemistry_Textbook_Maps/Supplemental_Modules_(Physical_and_Theoretical_Chemistry)/Equilibria/Physical_Equilibria/Fractional_Distillation_of_Non-ideal_Mixtures_(Azeotropes)"
   ]
  },
  {
   "cell_type": "markdown",
   "metadata": {},
   "source": [
    "figuur 13: http://bernardblogt.vak-online.nl/images/2010/destillatie_olie.jpg "
   ]
  },
  {
   "cell_type": "markdown",
   "metadata": {},
   "source": [
    "figuur 14: https://m.media-amazon.com/images/I/51EMZxSgYKL._SL1000_.jpg "
   ]
  },
  {
   "cell_type": "markdown",
   "metadata": {},
   "source": [
    "figuur 15: ingescand uit hoofdstuk Chromatografie en Gaschromatografie uit Chemische Analyse van A.G.A. van der Meer "
   ]
  },
  {
   "cell_type": "markdown",
   "metadata": {},
   "source": [
    "figuur 16: nagetekend uit §2.4 uit Chemische Analyse van A.G.A. van der Meer"
   ]
  },
  {
   "cell_type": "markdown",
   "metadata": {},
   "source": [
    "figuur 17: https://images.whattoexpect.com/bc421c1f-6827-4579-8e66-08d8a2fd9294"
   ]
  },
  {
   "cell_type": "markdown",
   "metadata": {},
   "source": [
    "figuur 18: https://edition.cnn.com/2015/06/17/world/moonshine-legal-golden-age/index.html"
   ]
  },
  {
   "cell_type": "markdown",
   "metadata": {},
   "source": [
    "figuur 19: https://cdn.dribbble.com/users/1285390/screenshots/13433202/20200714_makingcoffee.gif"
   ]
  },
  {
   "cell_type": "markdown",
   "metadata": {},
   "source": [
    "figuur 20: https://makeagif.com/i/5Quq9Q"
   ]
  },
  {
   "cell_type": "markdown",
   "metadata": {},
   "source": [
    "## § Herkristallisatie\n",
    "gebaseerd op:\n",
    "- Chemistry A Molecular Approach van Nivaldo Tro\n",
    "- https://www.uu.nl/sites/default/files/lesbrief_aspirine_synthese_2012.pdf "
   ]
  },
  {
   "cell_type": "markdown",
   "metadata": {},
   "source": [
    "## § Destillatie \n",
    "gebaseerd op: \n",
    "- https://chem.libretexts.org/Ancillary_Materials/Laboratory_Experiments/Wet_Lab_Experiments/Organic_Chemistry_Labs/Misc/Distillation \n",
    "- NLT deel over destillatie op BS\n",
    "- §2.4 uit Chemische Analyse van A.G.A. van der Meer\n",
    "- https://wetten.overheid.nl/BWBR0002458/2025-01-01/"
   ]
  },
  {
   "cell_type": "markdown",
   "metadata": {},
   "source": [
    "## § Chromatografie \n",
    "gebaseerd op:\n",
    "- hoofdstuk Chromatografie en Gaschromatografie uit Chemische Analyse van A.G.A. van der Meer \n",
    "- https://chem.libretexts.org/Bookshelves/Analytical_Chemistry/Supplemental_Modules_(Analytical_Chemistry)/Instrumentation_and_Analysis/Chromatography/Chromatography \n",
    "- https://chem.libretexts.org/Bookshelves/Organic_Chemistry/Organic_Chemistry_Lab_Techniques_(Nichols)/02%3A_Chromatography/2.04%3A_Column_Chromatography\n",
    "- https://pmc.ncbi.nlm.nih.gov/articles/PMC10525168/"
   ]
  },
  {
   "cell_type": "markdown",
   "metadata": {},
   "source": [
    "## § Extractie\n",
    "gebaseerd op:\n",
    "- https://www.sciencedirect.com/topics/engineering/solid-liquid-extraction \n",
    "- https://chem.libretexts.org/Bookshelves/Organic_Chemistry/Organic_Chemistry_Lab_Techniques_(Nichols)/04%3A_Extraction\n",
    "- Chemistry A Molecular Approach van Nivaldo Tro\n",
    "- Practicum extractie op BS\n",
    "- https://en.wikipedia.org/wiki/Partition_coefficient \n",
    "- https://en.wikipedia.org/wiki/Diethyl_ether \n",
    "- https://en.wikipedia.org/wiki/1,4-Dichlorobenzene"
   ]
  }
 ],
 "metadata": {
  "kernelspec": {
   "display_name": "Python 3",
   "language": "python",
   "name": "python3"
  },
  "language_info": {
   "codemirror_mode": {
    "name": "ipython",
    "version": 3
   },
   "file_extension": ".py",
   "mimetype": "text/x-python",
   "name": "python",
   "nbconvert_exporter": "python",
   "pygments_lexer": "ipython3",
   "version": "3.12.6"
  }
 },
 "nbformat": 4,
 "nbformat_minor": 2
}
