{
 "cells": [
  {
   "cell_type": "markdown",
   "metadata": {},
   "source": [
    "# Verantwoording"
   ]
  },
  {
   "cell_type": "markdown",
   "metadata": {},
   "source": [
    "figuur 1: https://imgur.com/gallery/recrystallization-of-acetanilide-by-nile-red-9YVpz"
   ]
  },
  {
   "cell_type": "markdown",
   "metadata": {},
   "source": [
    "figuur 2: zelfgemaakt op basis van figuur 14.11 uit Chemistry a molecular approach van Nivaldo Tro"
   ]
  },
  {
   "cell_type": "markdown",
   "metadata": {},
   "source": [
    "figuur 3: https://s3.amazonaws.com/images.icliniq.com/article/Blog/green+tea/gif1.gif"
   ]
  }
 ],
 "metadata": {
  "kernelspec": {
   "display_name": "Python 3",
   "language": "python",
   "name": "python3"
  },
  "language_info": {
   "codemirror_mode": {
    "name": "ipython",
    "version": 3
   },
   "file_extension": ".py",
   "mimetype": "text/x-python",
   "name": "python",
   "nbconvert_exporter": "python",
   "pygments_lexer": "ipython3",
   "version": "3.12.6"
  }
 },
 "nbformat": 4,
 "nbformat_minor": 2
}
