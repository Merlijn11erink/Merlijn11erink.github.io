{
 "cells": [
  {
   "cell_type": "markdown",
   "metadata": {},
   "source": [
    "## Begrippenlijst"
   ]
  },
  {
   "cell_type": "markdown",
   "metadata": {},
   "source": [
    "```{glossary}\n",
    "Retentietijd\n",
    "  De tijd die een stof nodig heeft om volledig door een chromatografiekolom te reizen.\n",
    "  \n",
    "Retardatiefactor\n",
    "  De verhouding tussen de afstand die de stof aflegt en de afstand die de loopvloeistof aflegt uitgedrukt als een getal tussen 0 en 1.  \n",
    "\n",
    "\n",
    "```"
   ]
  }
 ],
 "metadata": {
  "kernelspec": {
   "display_name": "Python 3",
   "language": "python",
   "name": "python3"
  },
  "language_info": {
   "codemirror_mode": {
    "name": "ipython",
    "version": 3
   },
   "file_extension": ".py",
   "mimetype": "text/x-python",
   "name": "python",
   "nbconvert_exporter": "python",
   "pygments_lexer": "ipython3",
   "version": "3.12.6"
  }
 },
 "nbformat": 4,
 "nbformat_minor": 2
}
