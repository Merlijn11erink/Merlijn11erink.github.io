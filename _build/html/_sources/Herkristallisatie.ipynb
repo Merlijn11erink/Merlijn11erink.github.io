{
 "cells": [
  {
   "cell_type": "markdown",
   "metadata": {},
   "source": [
    "# Herkristallisatie"
   ]
  },
  {
   "cell_type": "markdown",
   "metadata": {},
   "source": [
    "```{figure} images/figuur-1.gif\n",
    "---\n",
    "width: 657px\n",
    "name: recrystallization of acetanilide\n",
    "---\n",
    "herkristallisatie van acetanilide\n",
    "```"
   ]
  },
  {
   "cell_type": "markdown",
   "metadata": {},
   "source": [
    "## Leerdoelen\n",
    "- Je kan benoemen op welk principe herkristallisatie werkt\n",
    "- Je kan uitleggen wanneer herkristallisatie geschikt is als scheidingsmethode\n",
    "- Je kan uitleggen hoe herkristallisatie verloopt\n",
    "- Je kan benoemen welke factoren van invloed zijn op herkristallisatie\n",
    "- Je kan uitleggen hoe je de kristallen zuiver kan scheiden"
   ]
  },
  {
   "cell_type": "markdown",
   "metadata": {},
   "source": [
    "## Voorkennis\n",
    "Scheidingsmethoden berusten altijd op een verschil in stofeigenschap om de stoffen te separeren. Wanneer een stof oplost worden er altijd bindingen verbroken, en nieuwe bindingen gevormd. De oplosbaarheid, hoe goed een stof in een specifiek oplosmiddel oplost, is afhankelijk van de bindingen die de stof met het oplosmiddel kan vormen. Daarnaast is de oplosbaarheid ook afhankelijk van de temperatuur van het oplosmiddel. Ook dan speelt de aard van de stof een rol. De temperatuursafhankelijke oplosbaarheid is **dus** een stofeigenschap"
   ]
  },
  {
   "cell_type": "markdown",
   "metadata": {},
   "source": [
    "## Het proces\n",
    "1) Los het mengsel volledig op in zo min mogelijk heet oplosmiddel. Zo zijn de concentraties zo hoog mogelijk en zal bij verminderde oplosbaarheid zoveel mogelijk uit oplossing treden.\n",
    "2) Laat de oplossing afkoelen, hierdoor neemt de oplosbaarheid af, hoeveel die afneemt verschilt tussen de stoffen.\n",
    "3) Er vormt een neerslag van de stof waar de oplosbaarheid lager is geworden dan de concentratie. De andere stoffen blijven nog in oplossing.\n",
    "4) Filtreer nu het mengsel, het filtraat bevat de verontreiniging, het residu in je filter is je gezuiverde product."
   ]
  },
  {
   "cell_type": "markdown",
   "metadata": {},
   "source": [
    "`````{admonition} voorbeeldopdracht\n",
    ":class: tip\n",
    "Bereken de theoretische opbrengst als 30g mengsel van 1:5 NaNO3 en KClO3 wordt opgelost in 100ml water van 80°C en afgekoeld wordt tot 20°C.\n",
    "\n",
    "**stappenplan** \n",
    "1) Bereken het aantal gram van beide stoffen: \n",
    "$\n",
    " \\frac{30g}{5delen+1deel}=5g/deel \n",
    "$\n",
    ",dus 5g NaNO3 en 25g KClO3.\n",
    "2) Bereken de concentratie van beide stoffen:\n",
    "\n",
    "| stof | NaNO3 | KClO3 |\n",
    "|---|---|---|\n",
    "| massa | 5g | 25g|\n",
    "| volume | 100ml | 100ml|\n",
    "\n",
    "3) Bereken hoeveel van de stoffen opgelost blijft met de maximale oplosbaarheid bij 20°C uit figuur 2. \n",
    "\n",
    "| stof | NaNO3 | maximale oplosbaarheid | KClO3 | maximale oplosbaarheid |\n",
    "|---|---|---|---|---|\n",
    "| massa | 5g | 88g | 25g | 7g |\n",
    "| volume | 100ml | 100ml | 100ml | 100ml |\n",
    "`````"
   ]
  },
  {
   "cell_type": "markdown",
   "metadata": {},
   "source": [
    "```{figure} images/figuur-2.png\n",
    "---\n",
    "width: 657px\n",
    "name: directive-fig\n",
    "---\n",
    "oplosbaarheid in water bij verschillende temperaturen\n",
    "```"
   ]
  },
  {
   "cell_type": "markdown",
   "metadata": {},
   "source": [
    "## Opgaven"
   ]
  },
  {
   "cell_type": "markdown",
   "metadata": {},
   "source": [
    "- Maak steeds één opgave\n",
    "- schrijf het antwoord in je schrift, \n",
    "- kijk dan na\n",
    "- verbeter zo nodig\n",
    "- ga dan pas door met de volgende opgave."
   ]
  },
  {
   "cell_type": "markdown",
   "metadata": {},
   "source": [
    "``````{admonition} kennisopgaven\n",
    ":class: note, dropdown\n",
    "`````{tab-set}\n",
    "````{tab-item} K1\n",
    "Welk verschil in stofeigenschap wordt gebruikt voor herkristallisatie?\n",
    "```{dropdown} antwoord\n",
    "De temperatuursafhankelijke oplosbaarheid\n",
    "```\n",
    "````\n",
    "\n",
    "````{tab-item} K2\n",
    "Wanneer verloopt herkristallisatie het beste?\n",
    "```{dropdown} antwoord\n",
    "Herkristallisatie verloopt het beste als het verschil in de temperatuursafhankelijke oplosbaarheid maximaal is.\n",
    "```\n",
    "````\n",
    "`````\n",
    "``````"
   ]
  },
  {
   "cell_type": "markdown",
   "metadata": {},
   "source": [
    "``````{admonition} toepassingsopgaven\n",
    ":class: note, dropdown\n",
    "`````{tab-set}\n",
    "````{tab-item} T1\n",
    "Bereken de theoretische opbrengst als 70g mengsel van 1:10 Natriumnitraat en Loodnitraat wordt opgelost in 100ml water van 80°C en afgekoeld wordt tot 0°C en daarna gefiltreerd.\n",
    "```{dropdown} antwoord\n",
    "$\n",
    "\\frac{70g}{10+1}\\times10=64g\n",
    "$\n",
    "\n",
    "$\n",
    "64-37=27g\n",
    "$\n",
    "\n",
    "27 gram is de theoretisch opbrengst\n",
    "```\n",
    "````\n",
    "\n",
    "````{tab-item} T2\n",
    "Een 1:1 mengsel van twee zouten met een massa van 35,0 gram wordt volledig opgelost in 50,0ml water van 90°C en afgekoeld tot 30°C, de opbrengst is 12,5 gram. Toon met een berekening aan uit welk zout in figuur 2 de opbrengst bestaat.\n",
    "```{dropdown} antwoord\n",
    "antwoord volgt niet\n",
    "```\n",
    "````\n",
    "`````\n",
    "``````"
   ]
  }
 ],
 "metadata": {
  "kernelspec": {
   "display_name": "Python 3",
   "language": "python",
   "name": "python3"
  },
  "language_info": {
   "codemirror_mode": {
    "name": "ipython",
    "version": 3
   },
   "file_extension": ".py",
   "mimetype": "text/x-python",
   "name": "python",
   "nbconvert_exporter": "python",
   "pygments_lexer": "ipython3",
   "version": "3.12.6"
  }
 },
 "nbformat": 4,
 "nbformat_minor": 2
}
