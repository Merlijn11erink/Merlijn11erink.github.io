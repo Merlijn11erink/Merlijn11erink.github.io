{
 "cells": [
  {
   "cell_type": "markdown",
   "metadata": {},
   "source": [
    "# LioNS\n"
   ]
  },
  {
   "cell_type": "markdown",
   "metadata": {},
   "source": [
    "Benodigdheden\n",
    "- Visual Studio Code\n",
    "- Github account\n",
    "- Github app\n",
    "- Laptop (Windows, MacOS of Linux)\n",
    "\n",
    "Ondersteunende Bronnen:\n",
    "NVOX nr.7 2024: https://www.nvon.nl/nvox/nvox-2024-7-geheel (als student aan de lerarenopleiding natuur- of scheikunde, kun je gratis lid worden)\n",
    "TU Delft voorbeeldboek: https://books.open.tudelft.nl/home/catalog/book/187 \n",
    "Jupyter book documentatie: https://jupyterbook.org/en/stable/intro.html"
   ]
  },
  {
   "cell_type": "markdown",
   "metadata": {},
   "source": [
    "## Copyright\n",
    "Bij vragen over copyright tijdens je studie kun je naar het mediacentrum van jouw opleidingsinstelling. Onderstaande overzicht is gebaseerd op informatie van het mediacentrum van Hogeschool Windesheim."
   ]
  },
  {
   "cell_type": "markdown",
   "metadata": {},
   "source": [
    "| Bron van materiaal | voorbeeld | copyright situatie | Mag je het gebruiken? |\n",
    "|---|---|---|---|\n",
    "| Volledig Zelfgemaakte Afbeeldingen | niet nagetekend van iets, volledig origineel. | Mag altijd worden gebruikt. Auteursrecht ligt bij jou. | Ja |\n",
    "| Afbeeldingen gemaakt door AI | afbeelding gegenereerd door MidJourney | Mag altijd worden gebruikt. AI heeft geen auteursrechten. |  Ja |\n",
    "| Zelfgemaakte foto’s | foto die je zelf maakt | Mag gebruikt worden behalve als er personen in staan. Dit valt onder portretrecht, je hebt eerst toestemming nodig van ieder persoon op de foto. | Ja* |\n",
    "| Aangepaste afbeeldingen | Nagetekend van iets met aanpassingen | Valt onder citaatrecht en telt als parafraseren, mag gebruikt worden indien je weinig gebruikt van de bron én de bron vermeldt. | Ja* |\n",
    "| Afbeelding gemaakt door een ander onder een CC-licentie | afbeeldingen die je online kan vinden met een zoekmachine door te zoeken op licentie. | Auteursrecht blijft behouden aan de maker, maar onder de voorwaarden van de licentie mag je het gebruiken, zoals naamsvermelding. | Ja* |\n",
    "| Afbeelding gemaakt door een onbekende maker onder een onbekende licentie | Veel afbeeldingen online | Auteursrecht blijft behouden aan de maker, omdat de maker onbekend is kun je geen toestemming vragen, maar ook nier voldoen aan de licentie. Dit mag je niet gebruiken. | Nee |\n",
    "\n",
    "*Let op de voorwaarden die gelden voor het gebruik"
   ]
  },
  {
   "cell_type": "markdown",
   "metadata": {},
   "source": [
    "Als je afbeeldingen toch wilt gebruiken, kun je het beste gebruik maken van een embedded link naar de afbeelding. Zie Afbeeldingen voor meer informatie.\n"
   ]
  },
  {
   "cell_type": "markdown",
   "metadata": {},
   "source": [
    "## Afbeeldingen\n",
    "\n",
    "Afbeeldingen voeg je in door in een markdown cel deze structuur neer te zetten:\n",
    "````\n",
    "```\n",
    "{figure} link.naar.afbeelding.com\n",
    "---\n",
    "width: aantal px\n",
    "name: naam\n",
    "Alt: voor screenreaders of als de afbeelding niet getoond kan worden\n",
    "---\n",
    "Onderschrift\n",
    "```\n",
    "````\n",
    "In plaats van een link naar de afbeelding, kan je ook een folder binnen je project aanmaken, en dan het pad naar de afbeelding invullen. Vanwege copyright is het handiger om een link aan te houden, dit telt als embedding, en maakt het dat je alle afbeeldingen zou mogen gebruiken. Volgens het mediacentrum van het Windesheim: “De auteurswet stelt dat een embedded link – een link waarbij de inhoud al getoond wordt zoals bijv. met een YouTube video – op zichzelf geen inbreuk kan maken op het auteursrecht. Dus als je linkt op die pagina naar een andere site op internet waar dat gifje staat, omzeil je het mogelijke probleem.”. \n",
    "\n",
    "Naast hoe breed de afbeelding word getoond en welke naam het heeft kan je nog meer eigenschappen bepalen, zie: https://jupyterbook.org/en/stable/content/figures.html#figure-parameters \n"
   ]
  },
  {
   "cell_type": "markdown",
   "metadata": {},
   "source": [
    "## Embedding\n",
    "Voor de inhoud van een website hoef je niet alles zelf te maken, met name interactieve elementen zijn moeilijk om te maken, terwijl ze veel toegevoegde waarde kunnen hebben. Embedding maakt het mogelijk om delen van een andere website op te nemen in jouw online lesmateriaal. Stel dat je een Phet klaar wil plaatsen in je website, dan ga je naar de website van de Phet en klik je op embedding, dat kan bij naam genoemd worden of met deze symbolen: </>\n",
    "Dan kopieer je de code, en deze kun je plakken in je jupyterbook. Als je een nieuwe cel hiervoor aanmaakt, houdt het nog steeds op markdown, anders werkt het niet.\n",
    "\n",
    "Een aantal voorbeelden van wat je kan embedden:\n",
    "- Phet’s <iframe src=\"https://phet.colorado.edu/sims/html/circuit-construction-kit-dc/latest/circuit-construction-kit-dc_en.html\"\n",
    "        width=\"800\"\n",
    "        height=\"600\"\n",
    "        allowfullscreen>\n",
    "</iframe>\n",
    "- Microsoft forms voor bijvoorbeeld opdrachten.\n",
    "- Youtube video’s\n",
    "- Educaplay spellen, dit is een platform waarop je als docent educatieve spellen kan maken.\n",
    "- Sketchfab 3D Modellen <div class=\"sketchfab-embed-wrapper\"> <iframe title=\"Xenotime (YPO4)\" frameborder=\"0\" allowfullscreen mozallowfullscreen=\"true\" webkitallowfullscreen=\"true\" allow=\"autoplay; fullscreen; xr-spatial-tracking\" xr-spatial-tracking execution-while-out-of-viewport execution-while-not-rendered web-share src=\"https://sketchfab.com/models/9d2314620aa8410483d1ad4cbddfa08b/embed\"> </iframe> <p style=\"font-size: 13px; font-weight: normal; margin: 5px; color: #4A4A4A;\"> <a href=\"https://sketchfab.com/3d-models/xenotime-ypo4-9d2314620aa8410483d1ad4cbddfa08b?utm_medium=embed&utm_campaign=share-popup&utm_content=9d2314620aa8410483d1ad4cbddfa08b\" target=\"_blank\" rel=\"nofollow\" style=\"font-weight: bold; color: #1CAAD9;\"> Xenotime (YPO4) </a> by <a href=\"https://sketchfab.com/merlijn11erink?utm_medium=embed&utm_campaign=share-popup&utm_content=9d2314620aa8410483d1ad4cbddfa08b\" target=\"_blank\" rel=\"nofollow\" style=\"font-weight: bold; color: #1CAAD9;\"> merlijn11erink </a> on <a href=\"https://sketchfab.com?utm_medium=embed&utm_campaign=share-popup&utm_content=9d2314620aa8410483d1ad4cbddfa08b\" target=\"_blank\" rel=\"nofollow\" style=\"font-weight: bold; color: #1CAAD9;\">Sketchfab</a></p></div>"
   ]
  }
 ],
 "metadata": {
  "kernelspec": {
   "display_name": "Python 3",
   "language": "python",
   "name": "python3"
  },
  "language_info": {
   "codemirror_mode": {
    "name": "ipython",
    "version": 3
   },
   "file_extension": ".py",
   "mimetype": "text/x-python",
   "name": "python",
   "nbconvert_exporter": "python",
   "pygments_lexer": "ipython3",
   "version": "3.12.6"
  }
 },
 "nbformat": 4,
 "nbformat_minor": 2
}
